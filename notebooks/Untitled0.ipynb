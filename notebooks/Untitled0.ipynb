{
 "metadata": {
  "name": ""
 },
 "nbformat": 3,
 "nbformat_minor": 0,
 "worksheets": [
  {
   "cells": [
    {
     "cell_type": "markdown",
     "source": [
      "## setup"
     ]
    },
    {
     "cell_type": "code",
     "collapsed": false,
     "input": [
      "import pickle\n",
      "import os\n",
      "import difflib\n",
      "import random\n",
      "import corenlp_utils\n",
      "import jsonrpclib\n",
      "import simplejson\n",
      "import numpy as np\n",
      "import pandas as pd\n",
      "\n",
      "transcript_dir = os.path.join('testimony/text/hearings')\n",
      "\n",
      "\n",
      "df = pd.read_pickle('pickles/final_sentiment.p')\n",
      "anaphora_and_mention_sentiment = pickle.load(open('pickles/anaphora_or_mention.p', 'rb'))\n",
      "\n",
      "interviewee_names = [f.replace(\".txt\", \"\") for f in os.listdir(transcript_dir)]\n",
      "interviewee_names = map(lambda s: s.replace(\"-\", \" \"), interviewee_names)"
     ],
     "language": "python",
     "outputs": [],
     "prompt_number": 224
    },
    {
     "cell_type": "markdown",
     "source": [
      "adding information about whether an interviewee response refers to an\n",
      "interviewer's mention."
     ]
    },
    {
     "cell_type": "code",
     "collapsed": false,
     "input": [
      "\n",
      "def is_interviewer(name):\n",
      "    return not difflib.get_close_matches(name, interviewee_names)\n",
      "\n",
      "anaphora_mentions = []\n",
      "for n, row in df.iterrows():\n",
      "    # don't want interviewer sentiment here.\n",
      "    if is_interviewer(row['speaker']):\n",
      "        to_add = np.nan\n",
      "    if anaphora_and_mention_sentiment.has_key(n):\n",
      "        to_add = anaphora_and_mention_sentiment[n]\n",
      "    anaphora_mentions.append(to_add)\n",
      "\n",
      "df['anaphora_sentiment'] = anaphora_mentions\n",
      "df.head()"
     ],
     "language": "python",
     "outputs": [
      {
       "html": [
        "<div style=\"max-height:1000px;max-width:1500px;overflow:auto;\">\n",
        "<table border=\"1\" class=\"dataframe\">\n",
        "  <thead>\n",
        "    <tr style=\"text-align: right;\">\n",
        "      <th></th>\n",
        "      <th>mentions</th>\n",
        "      <th>speaker</th>\n",
        "      <th>speechact</th>\n",
        "      <th>sentiment</th>\n",
        "      <th>anaphora_sentiment</th>\n",
        "    </tr>\n",
        "  </thead>\n",
        "  <tbody>\n",
        "    <tr>\n",
        "      <th>0</th>\n",
        "      <td> []</td>\n",
        "      <td>   macia</td>\n",
        "      <td> 'I'AvENNEit. Have both counsel identified them...</td>\n",
        "      <td> NaN</td>\n",
        "      <td> NaN</td>\n",
        "    </tr>\n",
        "    <tr>\n",
        "      <th>1</th>\n",
        "      <td> []</td>\n",
        "      <td>   macia</td>\n",
        "      <td>                      AI'AENNEI1. When and where- </td>\n",
        "      <td> NaN</td>\n",
        "      <td> NaN</td>\n",
        "    </tr>\n",
        "    <tr>\n",
        "      <th>2</th>\n",
        "      <td> []</td>\n",
        "      <td>   macia</td>\n",
        "      <td>            ,JACK ON. No. I am sorry, you cannot. </td>\n",
        "      <td> NaN</td>\n",
        "      <td> NaN</td>\n",
        "    </tr>\n",
        "    <tr>\n",
        "      <th>3</th>\n",
        "      <td> []</td>\n",
        "      <td> jackson</td>\n",
        "      <td>  The request, in line with the rules of the co...</td>\n",
        "      <td> NaN</td>\n",
        "      <td> NaN</td>\n",
        "    </tr>\n",
        "    <tr>\n",
        "      <th>4</th>\n",
        "      <td> []</td>\n",
        "      <td>   macia</td>\n",
        "      <td> ''M NER. illt volt (Otill emtoyvl its italelo ...</td>\n",
        "      <td> NaN</td>\n",
        "      <td> NaN</td>\n",
        "    </tr>\n",
        "  </tbody>\n",
        "</table>\n",
        "</div>"
       ],
       "output_type": "pyout",
       "prompt_number": 32,
       "text": [
        "  mentions  speaker                                          speechact  \\\n",
        "0       []    macia  'I'AvENNEit. Have both counsel identified them...   \n",
        "1       []    macia                       AI'AENNEI1. When and where-    \n",
        "2       []    macia             ,JACK ON. No. I am sorry, you cannot.    \n",
        "3       []  jackson   The request, in line with the rules of the co...   \n",
        "4       []    macia  ''M NER. illt volt (Otill emtoyvl its italelo ...   \n",
        "\n",
        "  sentiment anaphora_sentiment  \n",
        "0       NaN                NaN  \n",
        "1       NaN                NaN  \n",
        "2       NaN                NaN  \n",
        "3       NaN                NaN  \n",
        "4       NaN                NaN  "
       ]
      }
     ],
     "prompt_number": 32
    },
    {
     "cell_type": "code",
     "collapsed": false,
     "input": [
      "df.to_pickle('pickles/with_interviewee_anaphora_sentiment.p')"
     ],
     "language": "python",
     "outputs": [],
     "prompt_number": 179
    },
    {
     "cell_type": "markdown",
     "source": [
      "let's make it a series, and see what we've got:"
     ]
    },
    {
     "cell_type": "code",
     "collapsed": false,
     "input": [
      "vals = pd.Series(anaphora_mentions)\n",
      "vals[vals.notnull()]"
     ],
     "language": "python",
     "outputs": [
      {
       "output_type": "pyout",
       "prompt_number": 42,
       "text": [
        "1156                                  {u'Jane Howe': 0.0}\n",
        "1157                                  {u'Jane Howe': 0.0}\n",
        "1216                            {u'Harrison George': 0.0}\n",
        "1217                 {u'Harrison George': 0.117028985507}\n",
        "1224                {u'Harrison George': 0.0133333333333}\n",
        "1225                {u'Harrison George': 0.0133333333333}\n",
        "1233                               {u'Moxley Carey': 0.2}\n",
        "1234                               {u'Moxley Carey': 0.2}\n",
        "1243    {u'Dick Lewis': 0.0, u'Richard B. Lewis': 0.0,...\n",
        "1244          {u'Richard B. Lewis': 0.0, u'Richard': 0.0}\n",
        "1245                                      {u'Lewis': 0.0}\n",
        "1246                                      {u'Lewis': 0.0}\n",
        "1249                                 {u'Abe Minkus': 0.0}\n",
        "1250                                 {u'Abe Minkus': 0.0}\n",
        "1253                                {u'Zara Becker': 0.0}\n",
        "...\n",
        "7998                              {u'Victor Killian': 0.0}\n",
        "7999                              {u'Victor Killian': 0.0}\n",
        "8000                              {u'Victor Killian': 0.0}\n",
        "8001                              {u'Victor Killian': 0.0}\n",
        "8008                          {u'Hester Sondergaard': 0.0}\n",
        "8009     {u'Gale Sondergaard': 0.0, u'Hester Sondergaar...\n",
        "8496            {u'Ann Morgan': 0.0, u'Steve Morgan': 0.0}\n",
        "8497                             {u'Ann Roth Morgan': 0.0}\n",
        "8506                              {u'Michael Wilson': 0.0}\n",
        "8507                              {u'Michael Wilson': 0.0}\n",
        "8596                             {u'Catherine Brant': 0.1}\n",
        "8597                             {u'Catherine Brant': 0.1}\n",
        "11788                                {u'Lester Cole': 0.0}\n",
        "11887                                     {u'Offner': 0.0}\n",
        "11888                                     {u'Offner': 0.0}\n",
        "Length: 222, dtype: object"
       ]
      }
     ],
     "prompt_number": 42
    },
    {
     "cell_type": "markdown",
     "source": [
      "## Analysis #1: Sentiment of mentions\n",
      "\n",
      "I'm interested in seeing if there's a difference in sentiment when an\n",
      "individual cold-mentions someone vs when they mention them via\n",
      "anaphora, in response to an interviewer.\n",
      "\n",
      "I expect there to be generally positive sentiment when the mention is\n",
      "via anaphora, and negative sentiment when it is a cold mention."
     ]
    },
    {
     "cell_type": "code",
     "collapsed": false,
     "input": [
      "\n",
      "mentioned_sentiment = []\n",
      "referenced_sentiment = []\n",
      "\n",
      "for n, row in df.iterrows():\n",
      "    a_sent_val = np.nan\n",
      "    sent_val = np.nan\n",
      "\n",
      "    a_sent = row['anaphora_sentiment']\n",
      "    if not pd.isnull(a_sent):\n",
      "        referenced_sentiment.extend(a_sent.values())\n",
      "\n",
      "    sent = row['sentiment']\n",
      "    if not pd.isnull(sent) and not is_interviewer(row['speaker']):\n",
      "        mentioned_sentiment.extend(sent.values())\n",
      "\n",
      "    # referenced_sentiment.extend(a_sent_val)\n",
      "    # mentioned_sentiment.extend(sent_val)\n"
     ],
     "language": "python",
     "outputs": [],
     "prompt_number": 87
    },
    {
     "cell_type": "code",
     "collapsed": false,
     "input": [
      "import matplotlib.pyplot as plt\n",
      "%pylab inline\n",
      "plt.hist(referenced_sentiment, bins=30, alpha=0.5, label='sentiment when responding')\n",
      "plt.hist(mentioned_sentiment, bins=30, alpha=0.5, label='sentiment when mentioning')\n",
      "\n",
      "legend(bbox_to_anchor=(1.05, 1), loc=2, borderaxespad=0.)\n",
      "plt.show()"
     ],
     "language": "python",
     "outputs": [
      {
       "output_type": "stream",
       "stream": "stdout",
       "text": [
        "Populating the interactive namespace from numpy and matplotlib\n"
       ]
      },
      {
       "output_type": "display_data",
       "png": "[encoded data removed]",
       "text": [
        "<matplotlib.figure.Figure at 0x10b2cd0d0>"
       ]
      }
     ],
     "prompt_number": 91
    },
    {
     "cell_type": "markdown",
     "source": [
      "doesn't look a lot different, but there are some stragglers on the\n",
      "referenced side that look to be negative. What does it look like if we\n",
      "get rid of the neutral sentiment?"
     ]
    },
    {
     "cell_type": "code",
     "collapsed": false,
     "input": [
      "referenced_sentiment_no_zeroes = filter(lambda x:.005 <= x or x <= -0.005, referenced_sentiment)\n",
      "print \"removed\", len(referenced_sentiment) - len(referenced_sentiment_no_zeroes), \"elements from referenced_sentiment.\"\n",
      "mentioned_sentiment_no_zeroes = filter(lambda x: 0.005 <= x or x <= -0.005, mentioned_sentiment)\n",
      "print \"removed\", len(mentioned_sentiment) - len(mentioned_sentiment_no_zeroes), \"elements from mentioned_sentiment.\"\n",
      "\n",
      "fig, ax1 = plt.subplots()\n",
      "ax1.hist(referenced_sentiment_no_zeroes, bins=30, alpha=0.5, label='responding', color='g')\n",
      "\n",
      "ax1.set_xlabel('sentiment score')\n",
      "ax1.set_ylabel('frequency(responding)')\n",
      "ax1.set_title('non-neutral sentiment')\n",
      "\n",
      "ax2 = ax1.twinx()\n",
      "ax2.hist(mentioned_sentiment_no_zeroes, bins=30, alpha=0.5, label='mentioning', color='r')\n",
      "ax2.set_ylabel('frequency(mentioning)')\n",
      "\n",
      "handles, labels = ax1.get_legend_handles_labels()\n",
      "ax1.legend(handles, labels, loc=2)\n",
      "\n",
      "handles, labels = ax2.get_legend_handles_labels()\n",
      "ax2.legend(handles, labels, loc=1)\n",
      "\n",
      "pylab.rcParams['figure.figsize'] = (10.0, 8.0)\n",
      "plt.show()"
     ],
     "language": "python",
     "outputs": [
      {
       "output_type": "stream",
       "stream": "stdout",
       "text": [
        "removed 297 elements from referenced_sentiment.\n",
        "removed 1285 elements from mentioned_sentiment.\n"
       ]
      },
      {
       "output_type": "display_data",
       "png": "[encoded data removed]",
       "text": [
        "<matplotlib.figure.Figure at 0x10d45bc10>"
       ]
      }
     ],
     "prompt_number": 236
    },
    {
     "cell_type": "markdown",
     "source": [
      "there seems to be stronger overall sentiment when someone is\n",
      "responding to an interviewer than when they mention them on their own.\n",
      "\n",
      "This is surprising because I would think that mentioning someone's\n",
      "name without that person being mentioned by the interviewer would\n",
      "invoke stronger sentiment.\n",
      "\n",
      "Both distributions appear to be positive-leaning, as well. This is\n",
      "especially surprising in the mentioning dataset. I would expect\n",
      "responses that mention someone to carry some amount of positive\n",
      "sentiment, but cold mentions to carry generally negative sentiment.\n",
      "\n",
      "## Future analysis\n",
      "\n",
      "I'd like to run sentiment with other keywords from liwc to discover if\n",
      "there are any patterns in emotional sentiment in the responses and\n",
      "mentions.\n",
      "\n",
      "It would be interesting to see if many people were, say, defensive\n",
      "when responding, but aggressive when mentioning cold.\n",
      "\n",
      "## Sanity-check on these results\n",
      "let's get a random sample of mentioning speechacts:"
     ]
    },
    {
     "cell_type": "code",
     "collapsed": false,
     "input": [
      "# get all the sentiment values\n",
      "sentiment = df['sentiment'].dropna()\n",
      "sentiment = pd.DataFrame(sentiment.apply(lambda x: tuple(x.values())))\n",
      "\n",
      "# get all the sentiment values that are non-zero\n",
      "sentiment = sentiment.groupby('sentiment')['sentiment'].filter(lambda x: any(list(x)))\n",
      "\n",
      "# take a random sample\n",
      "sample_rows = np.random.choice(sentiment.index.values, 20)\n",
      "sample = sentiment.ix[sample_rows]\n",
      "\n",
      "# get the speechacts & mentionsfor this random sample\n",
      "sample_speechacts = df.ix[sample.index.values]\n",
      "\n",
      "for n, row in sample_speechacts.iterrows():\n",
      "    print \"speaker:\", row['speaker']\n",
      "    print \"sentiment:\", row['sentiment']\n",
      "    print \"text:\", row['speechact']\n",
      "    print \"----\"\n",
      "\n",
      "\n",
      "#rand_smpl = [ mylist[i] for i in sorted(random.sample(xrange(len(mylist)), 4)) ]\n"
     ],
     "language": "python",
     "outputs": []
    },
    {
     "cell_type": "markdown",
     "source": [
      "# Other categories from liwc\n",
      "\n",
      "Using other word categories, we can identify feelings like anxiety,\n",
      "anger, etc. in speechacts.\n",
      "\n",
      "It's a rough measure when used in an entire speechact, but we'll see\n",
      "what happens, I guess.\n",
      "\n",
      "Each element of 'categories' will be a dictionary of {category: # of occurrences}"
     ]
    },
    {
     "cell_type": "code",
     "collapsed": false,
     "input": [
      "import lexicons.lexiconUtils as sentimentUtils\n",
      "from collections import defaultdict\n",
      "import corenlp_utils\n",
      "import jsonrpclib\n",
      "\n",
      "liwc = sentimentUtils.LiwcDict()\n",
      "df = pd.read_pickle('pickles/with_interviewee_anaphora_sentiment.p')\n",
      "server = jsonrpclib.Server(\"http://localhost:8084\") # corenlp server"
     ],
     "language": "python",
     "outputs": [],
     "prompt_number": 19
    },
    {
     "cell_type": "code",
     "collapsed": false,
     "input": [
      "df_categories = []\n",
      "\n",
      "for n, row in df.iterrows():\n",
      "    if n > 10:\n",
      "        break\n",
      "    speech = row['speechact']\n",
      "    res = corenlp_utils.get_corenlp_object(speech, server)\n",
      "    if not res:\n",
      "        df_categories.append(np.nan)\n",
      "        continue\n",
      "    cats = defaultdict(int)\n",
      "    for sen in res['sentences']:\n",
      "        for word in sen['words']:\n",
      "            lemma = word[1]['Lemma']\n",
      "            categories = liwc.getCategories(lemma)\n",
      "            print \"lemma: \", lemma, \"categories:\", categories\n",
      "\n",
      "            if not categories:\n",
      "                continue\n",
      "            for category in categories:\n",
      "                cats[category] += 1\n",
      "            print \"cats:\", cats\n",
      "    print \"adding:\", cats\n",
      "    df_categories.append(cats)"
     ],
     "language": "python",
     "outputs": []
    },
    {
     "cell_type": "code",
     "collapsed": false,
     "input": [
      "df_categories[:20]"
     ],
     "language": "python",
     "outputs": []
    },
    {
     "cell_type": "code",
     "collapsed": false,
     "input": [
      "df['categories'] = df_categories\n",
      "df.to_pickle('pickles/with_liwc_categories_non_normalized.p')"
     ],
     "language": "python",
     "outputs": [],
     "prompt_number": 36
    },
    {
     "cell_type": "markdown",
     "source": [
      "Normalize the categories"
     ]
    },
    {
     "cell_type": "code",
     "collapsed": false,
     "input": [
      "normalized = []\n",
      "\n",
      "for n, row in df.iterrows():\n",
      "    categories = row['categories']\n",
      "    if type(categories) != defaultdict:\n",
      "        normalized.append(categories)\n",
      "        continue\n",
      "    normalized_dict = dict((k, (float(v)/len(row['speechact']))) for k,v in categories.items())\n",
      "    normalized.append(normalized_dict)"
     ],
     "language": "python",
     "outputs": [],
     "prompt_number": 65
    },
    {
     "cell_type": "code",
     "collapsed": false,
     "input": [
      "df['categories'] = normalized\n",
      "df.to_pickle('pickles/liwc_categories_normalized.p')"
     ],
     "language": "python",
     "outputs": [],
     "prompt_number": 68
    },
    {
     "cell_type": "markdown",
     "source": [
      "# uncooperativeness.\n",
      "\n",
      "We want to find on how many occasions an interviewee was\n",
      "uncooperative, and look at:\n",
      "    - the sentiment expressed in the previous speechact\n",
      "    - the sentiment expressed when they were being cooperative\n",
      "\n",
      "## How do we measure uncooperativeness in a single speechact?\n",
      "\n",
      "I don't think uncooperativeness is a sliding scale. I think it's\n",
      "binary.  Given what I've seen in the testimony, using keywords might\n",
      "be enough. \n",
      "\n",
      "However, it might be useful to try to classify speechacts into\n",
      "'cooperative' and 'uncooperative' using ml. I don't think that would\n",
      "be a difficult task for svm/human annotation."
     ]
    },
    {
     "cell_type": "code",
     "collapsed": false,
     "input": [
      "keywords = ['refuse', 'i refuse', 'refuses', 'decline', 'declining', 'illegal', 'declination']\n",
      "uncooperative_lemmas = ['refuse', 'decline', 'illegal']\n",
      "server = jsonrpclib.Server(\"http://localhost:8084\") # corenlp server\n",
      "\n",
      "uncooperative = []\n",
      "for row in df.iterrows():\n",
      "\n",
      "    if is_interviewer(row['speaker']):\n",
      "        uncooperative.append(False)\n",
      "        continue\n",
      "\n",
      "    speech = row['speechact']\n",
      "    res = corenlp_utils.get_corenlp_object(speech)\n",
      "    sentences = res['sentences']\n",
      "    words = []\n",
      "    for sen in sentences:\n",
      "        words.extend(sen['words'])\n",
      "    lemmas = [word['Lemma'] for word in words]\n",
      "\n",
      "    intersection = [l in uncooperative_lemmas for l in lemmas]\n",
      "\n",
      "    if any(intersection):\n",
      "        uncooperative.append(True)\n",
      "    else:\n",
      "        uncooperative.append(False)\n",
      "        "
     ],
     "language": "python",
     "outputs": []
    },
    {
     "cell_type": "code",
     "collapsed": false,
     "input": [
      "#speakers = df.groupby(['speaker'])['speaker'].nunique().reset_index()\n",
      "server = jsonrpclib.Server(\"http://localhost:8084\") # corenlp server\n",
      "corenlp_utils.get_corenlp_object('I refuse to answer the question on the grounds preivously stated.', server)"
     ],
     "language": "python",
     "outputs": []
    }
   ]
  }
 ]
}