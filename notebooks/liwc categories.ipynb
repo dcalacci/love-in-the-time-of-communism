{
 "metadata": {
  "name": ""
 },
 "nbformat": 3,
 "nbformat_minor": 0,
 "worksheets": [
  {
   "cells": [
    {
     "cell_type": "markdown",
     "source": [
      "# Other categories from liwc\n",
      "\n",
      "Using other word categories, we can identify feelings like anxiety,\n",
      "anger, etc. in speechacts.\n",
      "\n",
      "It's a rough measure when used in an entire speechact, but we'll see\n",
      "what happens, I guess.\n",
      "\n",
      "Each element of 'categories' will be a dictionary of {category: # of occurrences}"
     ]
    },
    {
     "cell_type": "code",
     "collapsed": false,
     "input": [
      "import os\n",
      "import difflib\n",
      "import pandas as pd\n",
      "import numpy as np\n",
      "import corenlp_utils\n",
      "import jsonrpclib\n",
      "import lexicons.lexiconUtils as sentimentUtils\n",
      "from collections import defaultdict\n",
      "\n",
      "liwc = sentimentUtils.LiwcDict()\n",
      "df = pd.read_pickle('pickles/with_interviewee_anaphora_sentiment.p')\n",
      "server = jsonrpclib.Server(\"http://localhost:8084\") # corenlp server\n",
      "\n",
      "transcript_dir = os.path.join('testimony/text/hearings')\n",
      "interviewee_names = [f.replace(\".txt\", \"\") for f in os.listdir(transcript_dir)]\n",
      "interviewee_names = map(lambda s: s.replace(\"-\", \" \"), interviewee_names)\n",
      "\n",
      "def is_interviewer(name):\n",
      "    return not difflib.get_close_matches(name, interviewee_names)"
     ],
     "language": "python",
     "outputs": [],
     "prompt_number": 3
    },
    {
     "cell_type": "code",
     "collapsed": false,
     "input": [
      "df_categories = []\n",
      "\n",
      "for n, row in df.iterrows():\n",
      "    if n > 10:\n",
      "        break\n",
      "    speech = row['speechact']\n",
      "    res = corenlp_utils.get_corenlp_object(speech, server)\n",
      "    if not res:\n",
      "        df_categories.append(np.nan)\n",
      "        continue\n",
      "    cats = defaultdict(int)\n",
      "    for sen in res['sentences']:\n",
      "        for word in sen['words']:\n",
      "            lemma = word[1]['Lemma']\n",
      "            categories = liwc.getCategories(lemma)\n",
      "            print \"lemma: \", lemma, \"categories:\", categories\n",
      "\n",
      "            if not categories:\n",
      "                continue\n",
      "            for category in categories:\n",
      "                cats[category] += 1\n",
      "            print \"cats:\", cats\n",
      "    print \"adding:\", cats\n",
      "    df_categories.append(cats)"
     ],
     "language": "python",
     "outputs": []
    },
    {
     "cell_type": "code",
     "collapsed": false,
     "input": [
      "df['categories'] = df_categories\n",
      "df.to_pickle('pickles/with_liwc_categories_non_normalized.p')"
     ],
     "language": "python",
     "outputs": []
    },
    {
     "cell_type": "markdown",
     "source": [
      "Normalize the categories"
     ]
    },
    {
     "cell_type": "code",
     "collapsed": false,
     "input": [
      "normalized = []\n",
      "\n",
      "for n, row in df.iterrows():\n",
      "    categories = row['categories']\n",
      "    if type(categories) != defaultdict:\n",
      "        normalized.append(categories)\n",
      "        continue\n",
      "    normalized_dict = dict((k, (float(v)/len(row['speechact']))) for k,v in categories.items())\n",
      "    normalized.append(normalized_dict)"
     ],
     "language": "python",
     "outputs": []
    },
    {
     "cell_type": "code",
     "collapsed": false,
     "input": [
      "df['categories'] = normalized\n",
      "df.to_pickle('pickles/liwc_categories_normalized.p')"
     ],
     "language": "python",
     "outputs": []
    },
    {
     "cell_type": "markdown",
     "source": [
      "# Start Here"
     ]
    },
    {
     "cell_type": "code",
     "collapsed": false,
     "input": [
      "df = pd.read_pickle('pickles/liwc_categories_normalized.p')\n",
      "df.head()"
     ],
     "language": "python",
     "outputs": [
      {
       "html": [
        "<div style=\"max-height:1000px;max-width:1500px;overflow:auto;\">\n",
        "<table border=\"1\" class=\"dataframe\">\n",
        "  <thead>\n",
        "    <tr style=\"text-align: right;\">\n",
        "      <th></th>\n",
        "      <th>mentions</th>\n",
        "      <th>speaker</th>\n",
        "      <th>speechact</th>\n",
        "      <th>sentiment</th>\n",
        "      <th>anaphora_sentiment</th>\n",
        "      <th>categories</th>\n",
        "    </tr>\n",
        "  </thead>\n",
        "  <tbody>\n",
        "    <tr>\n",
        "      <th>0</th>\n",
        "      <td> []</td>\n",
        "      <td>   macia</td>\n",
        "      <td> 'I'AvENNEit. Have both counsel identified them...</td>\n",
        "      <td> NaN</td>\n",
        "      <td> NaN</td>\n",
        "      <td> {u'School': 0.0144927536232, u'Pronoun': 0.014...</td>\n",
        "    </tr>\n",
        "    <tr>\n",
        "      <th>1</th>\n",
        "      <td> []</td>\n",
        "      <td>   macia</td>\n",
        "      <td>                      AI'AENNEI1. When and where- </td>\n",
        "      <td> NaN</td>\n",
        "      <td> NaN</td>\n",
        "      <td> {u'Space': 0.0357142857143, u'Incl': 0.0357142...</td>\n",
        "    </tr>\n",
        "    <tr>\n",
        "      <th>2</th>\n",
        "      <td> []</td>\n",
        "      <td>   macia</td>\n",
        "      <td>            ,JACK ON. No. I am sorry, you cannot. </td>\n",
        "      <td> NaN</td>\n",
        "      <td> NaN</td>\n",
        "      <td> {u'Pronoun': 0.0263157894737, u'Future': 0.026...</td>\n",
        "    </tr>\n",
        "    <tr>\n",
        "      <th>3</th>\n",
        "      <td> []</td>\n",
        "      <td> jackson</td>\n",
        "      <td>  The request, in line with the rules of the co...</td>\n",
        "      <td> NaN</td>\n",
        "      <td> NaN</td>\n",
        "      <td> {u'Cogmech': 0.0121457489879, u'Tentat': 0.008...</td>\n",
        "    </tr>\n",
        "    <tr>\n",
        "      <th>4</th>\n",
        "      <td> []</td>\n",
        "      <td>   macia</td>\n",
        "      <td> ''M NER. illt volt (Otill emtoyvl its italelo ...</td>\n",
        "      <td> NaN</td>\n",
        "      <td> NaN</td>\n",
        "      <td> {u'Eating': 0.0131578947368, u'Pronoun': 0.026...</td>\n",
        "    </tr>\n",
        "  </tbody>\n",
        "</table>\n",
        "</div>"
       ],
       "output_type": "pyout",
       "prompt_number": 4,
       "text": [
        "  mentions  speaker                                          speechact  \\\n",
        "0       []    macia  'I'AvENNEit. Have both counsel identified them...   \n",
        "1       []    macia                       AI'AENNEI1. When and where-    \n",
        "2       []    macia             ,JACK ON. No. I am sorry, you cannot.    \n",
        "3       []  jackson   The request, in line with the rules of the co...   \n",
        "4       []    macia  ''M NER. illt volt (Otill emtoyvl its italelo ...   \n",
        "\n",
        "  sentiment anaphora_sentiment  \\\n",
        "0       NaN                NaN   \n",
        "1       NaN                NaN   \n",
        "2       NaN                NaN   \n",
        "3       NaN                NaN   \n",
        "4       NaN                NaN   \n",
        "\n",
        "                                          categories  \n",
        "0  {u'School': 0.0144927536232, u'Pronoun': 0.014...  \n",
        "1  {u'Space': 0.0357142857143, u'Incl': 0.0357142...  \n",
        "2  {u'Pronoun': 0.0263157894737, u'Future': 0.026...  \n",
        "3  {u'Cogmech': 0.0121457489879, u'Tentat': 0.008...  \n",
        "4  {u'Eating': 0.0131578947368, u'Pronoun': 0.026...  "
       ]
      }
     ],
     "prompt_number": 4
    },
    {
     "cell_type": "markdown",
     "source": [
      "I want to add a column to the dataframe that shows if that speechact\n",
      "is an interviewee response.\n",
      "\n",
      "(I don't know why I haven't done this before)\n",
      "\n",
      "Also, I just realized that I still have the old mentions list. We\n",
      "should get rid of that.\n",
      "\n",
      "I'll add a column for just the keys of the anaphora sentiment."
     ]
    },
    {
     "cell_type": "code",
     "collapsed": false,
     "input": [
      "df = df.drop('mentions', 1)"
     ],
     "language": "python",
     "outputs": [],
     "prompt_number": 5
    },
    {
     "cell_type": "code",
     "collapsed": false,
     "input": [
      "response = []\n",
      "\n",
      "for n, row in df.iterrows():\n",
      "    if not pd.isnull(row['anaphora_sentiment']) and not is_interviewer(row['speaker']):\n",
      "        response.append(True)\n",
      "    elif not is_interviewer(row['speaker']):\n",
      "        response.append(False)\n",
      "    else:\n",
      "        response.append(np.nan)\n",
      "df['interviewee_response'] = response"
     ],
     "language": "python",
     "outputs": [],
     "prompt_number": 39
    },
    {
     "cell_type": "code",
     "collapsed": false,
     "input": [
      "cat_df = pd.DataFrame({'response': df['interviewee_response'], 'categories': df['categories']})\n",
      "\n",
      "def aggregate_dicts(ds):\n",
      "    res = defaultdict(float)\n",
      "    for d in ds:\n",
      "        for k, v in d.items():\n",
      "            res[k] += v\n",
      "    return res\n",
      "            \n",
      "\n",
      "total_response = {}\n",
      "total_not_response = {}\n",
      "\n"
     ],
     "language": "python",
     "outputs": [],
     "prompt_number": 40
    },
    {
     "cell_type": "code",
     "collapsed": false,
     "input": [
      "import matplotlib.pyplot as plt\n",
      "\n",
      "total_response = aggregate_dicts(cat_df.groupby('response')['categories'].get_group(True).dropna())\n",
      "total_not_response = aggregate_dicts(cat_df.groupby('response')['categories'].get_group(False).dropna())\n",
      "\n",
      "fig, ax1 = plt.subplots()\n",
      "ax1.bar(range(len(total_response)), total_response.values(), align='center', label='responses', color='g', width=.7)\n",
      "plt.xticks(range(len(total_response)), total_response.keys(), rotation='vertical', size='small')\n",
      "ax1.set_xlabel('liwc category')\n",
      "ax1.set_ylabel('frequency (normalized)')\n",
      "ax1.set_title('liwc categories in speechacts')\n",
      "\n",
      "#ax2 = ax1.twinx()\n",
      "#ax2.bar(range(len(total_not_response)), total_not_response.values(), align='center', label='non-responses', color='r')\n",
      "\n",
      "\n",
      "\n",
      "plt.show()"
     ],
     "language": "python",
     "outputs": [
      {
       "output_type": "display_data",
       "png": "[encoded data removed]",
       "text": [
        "<matplotlib.figure.Figure at 0x109147990>"
       ]
      }
     ],
     "prompt_number": 57
    },
    {
     "cell_type": "code",
     "collapsed": false,
     "input": [],
     "language": "python",
     "outputs": []
    }
   ]
  }
 ]
}