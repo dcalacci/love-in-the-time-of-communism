{
 "metadata": {
  "name": ""
 },
 "nbformat": 3,
 "nbformat_minor": 0,
 "worksheets": [
  {
   "cells": [
    {
     "cell_type": "markdown",
     "metadata": {},
     "source": [
      "# pure naming graph"
     ]
    },
    {
     "cell_type": "code",
     "collapsed": false,
     "input": [
      "import pickle\n",
      "import text_utils\n",
      "import networkx as nx"
     ],
     "language": "python",
     "metadata": {},
     "outputs": [],
     "prompt_number": 15
    },
    {
     "cell_type": "markdown",
     "metadata": {},
     "source": [
      "load the original graph"
     ]
    },
    {
     "cell_type": "code",
     "collapsed": false,
     "input": [
      "named_graph = pickle.load(open('testimony/text/annual-reports/pickles/named-graph.p', 'rb'))\n"
     ],
     "language": "python",
     "metadata": {},
     "outputs": [],
     "prompt_number": 8
    },
    {
     "cell_type": "code",
     "collapsed": false,
     "input": [
      "named_graph.items()[:5]"
     ],
     "language": "python",
     "metadata": {},
     "outputs": [
      {
       "metadata": {},
       "output_type": "pyout",
       "prompt_number": 13,
       "text": [
        "[('john issacs', [u'wayne b. salisbury', u\"richard f. o'hair\"]),\n",
        " ('william e. oliver', [u'alice bennett', u'urcel daniel']),\n",
        " ('charles gainor', [u'dr. gainor']),\n",
        " ('john morgan', [u'charles d. blodgett']),\n",
        " ('lydia mates', [u'mrs. dave mates', u'bereniece baldwin'])]"
       ]
      }
     ],
     "prompt_number": 13
    },
    {
     "cell_type": "markdown",
     "metadata": {},
     "source": [
      "## create a disambiguated name list"
     ]
    },
    {
     "cell_type": "code",
     "collapsed": false,
     "input": [
      "keys = named_graph.keys()\n",
      "\n",
      "# flatten values\n",
      "vals = [name for namelist in named_graph.values() for name in namelist]\n",
      "\n",
      "# append together\n",
      "names = keys + vals\n",
      "\n",
      "names = [name.lower() for name in names]\n",
      "\n",
      "# remove duplicates\n",
      "names = list(set(names))"
     ],
     "language": "python",
     "metadata": {},
     "outputs": [],
     "prompt_number": 9
    },
    {
     "cell_type": "code",
     "collapsed": false,
     "input": [
      "disambiguated_names = text_utils.chunk_list(names)"
     ],
     "language": "python",
     "metadata": {},
     "outputs": [],
     "prompt_number": 10
    },
    {
     "cell_type": "code",
     "collapsed": false,
     "input": [
      "print \"# original names:\", len(names)\n",
      "print \"# chunked names:\", len(disambiguated_names)"
     ],
     "language": "python",
     "metadata": {},
     "outputs": [
      {
       "output_type": "stream",
       "stream": "stdout",
       "text": [
        "# original names: 1917\n",
        "# chunked names: 1864\n"
       ]
      }
     ],
     "prompt_number": 11
    },
    {
     "cell_type": "code",
     "collapsed": false,
     "input": [
      "def get_key(mention, l):\n",
      "    \"second argument is the chunked list.\"\n",
      "    mention = mention.lower()\n",
      "    for chunk in l:\n",
      "        if mention in chunk:\n",
      "            return l.index(chunk)"
     ],
     "language": "python",
     "metadata": {},
     "outputs": [],
     "prompt_number": 12
    },
    {
     "cell_type": "markdown",
     "metadata": {},
     "source": [
      "## create the new graph with the disambiguated names"
     ]
    },
    {
     "cell_type": "code",
     "collapsed": false,
     "input": [
      "disambiguated_naming_graph = {}\n",
      "for snitch, accused in named_graph.items():\n",
      "    snitch_key = get_key(snitch, disambiguated_names)\n",
      "    accused = [get_key(a, disambiguated_names) for a in accused]\n",
      "    disambiguated_naming_graph[snitch_key] = accused\n",
      "    "
     ],
     "language": "python",
     "metadata": {},
     "outputs": [],
     "prompt_number": 17
    },
    {
     "cell_type": "markdown",
     "metadata": {},
     "source": [
      "## move it to a gml/networkx graph"
     ]
    },
    {
     "cell_type": "code",
     "collapsed": false,
     "input": [
      "G = nx.DiGraph()\n",
      "\n",
      "for snitch, accused in disambiguated_naming_graph.items():\n",
      "    for a in accused:\n",
      "      G.add_edge(snitch, a)\n",
      "        \n",
      "nx.write_gml(G, 'graphs/final/disambiguated_naming_graph.gml')"
     ],
     "language": "python",
     "metadata": {},
     "outputs": [],
     "prompt_number": 41
    },
    {
     "cell_type": "markdown",
     "metadata": {},
     "source": [
      "Networkx has no measure of reciprocity...so let's make our own!"
     ]
    },
    {
     "cell_type": "code",
     "collapsed": false,
     "input": [
      "def reciprocity(D):\n",
      "        \"computes the proportion of reciprocated edges to all edges\"\n",
      "        G=D.to_undirected()\n",
      "        for (u,v) in D.edges():\n",
      "            if not D.has_edge(v,u):\n",
      "                    G.remove_edge(u,v)\n",
      "        return float(len(G.edges()))/len(D.to_undirected().edges())\n",
      "    \n",
      "def run_statistics(G):\n",
      "    outdegrees = [G.out_degree(n) for n in G.node if G.out_degree(n) > 0]\n",
      "    indegrees = [G.in_degree(n) for n in G.node if G.in_degree(n) > 0]\n",
      "    \n",
      "    naming_nodes = [n for n in G.node if G.out_degree(n) > 0]\n",
      "    named_nodes = [n for n in G.node if G.in_degree(n) > 0]\n",
      "    \n",
      "    print '# of naming nodes:', len(naming_nodes)\n",
      "    print '# of named nodes:', len(named_nodes)\n",
      "    \n",
      "    print \"# of nodes:\", len(G.node)\n",
      "    print \"# of edges:\", G.number_of_edges()\n",
      "\n",
      "    print \"average outdegree for nodes with outdegree > 0:\", float(sum(outdegrees))/len(outdegrees)\n",
      "    print \"average indegree for nodes with outdegree > 0:\", float(sum(indegrees))/len(indegrees)\n",
      "    \n",
      "    giant_component = max(list(nx.weakly_connected_component_subgraphs(G)), key=len)\n",
      "\n",
      "    print \"reciprocity for naming graph:\", reciprocity(giant_component)\n",
      "    # take the avg. shortest path length for the giant component.\n",
      "    print \"average shortest path length:\", nx.average_shortest_path_length(giant_component)\n",
      "    \n",
      "    gnt = giant_component.to_undirected()\n",
      "    print \"max eccentricity/diameter:\", nx.diameter(gnt)\n",
      "    print \"min eccentricity/radius:\", nx.radius(gnt)\n",
      "    print \"# in periphery (at diameter):\", len(nx.periphery(gnt))\n",
      "    print \"# in center (at radius):\", len(nx.center(gnt))\n",
      "    print \"transitivity (fraction of all possible triangles in graph)\", nx.transitivity(gnt)\n",
      "    \n",
      "    print '# triangles:', sum(nx.triangles(gnt).values())/3"
     ],
     "language": "python",
     "metadata": {},
     "outputs": [],
     "prompt_number": 118
    },
    {
     "cell_type": "markdown",
     "metadata": {},
     "source": [
      "Some network statistics"
     ]
    },
    {
     "cell_type": "code",
     "collapsed": false,
     "input": [
      "run_statistics(G)\n"
     ],
     "language": "python",
     "metadata": {},
     "outputs": [
      {
       "output_type": "stream",
       "stream": "stdout",
       "text": [
        "# of naming nodes: 1628\n",
        "# of named nodes: 348\n",
        "# of nodes: 1832\n",
        "# of edges: 2839\n",
        "average outdegree for nodes with outdegree > 0: 1.74385749386\n",
        "average indegree for nodes with outdegree > 0: 8.15804597701\n",
        "reciprocity for naming graph:"
       ]
      },
      {
       "output_type": "stream",
       "stream": "stdout",
       "text": [
        " 0.0118449389806\n",
        "average shortest path length: 0.002001130494\n",
        "max eccentricity/diameter: "
       ]
      },
      {
       "output_type": "stream",
       "stream": "stdout",
       "text": [
        "12\n",
        "min eccentricity/radius: "
       ]
      },
      {
       "output_type": "stream",
       "stream": "stdout",
       "text": [
        "7\n",
        "# in periphery (at diameter): "
       ]
      },
      {
       "output_type": "stream",
       "stream": "stdout",
       "text": [
        "2\n",
        "# in center (at radius): "
       ]
      },
      {
       "output_type": "stream",
       "stream": "stdout",
       "text": [
        "100\n",
        "transitivity (fraction of all possible triangles in graph) 0.00356820605365\n",
        "# triangles: "
       ]
      },
      {
       "output_type": "stream",
       "stream": "stdout",
       "text": [
        "87\n"
       ]
      }
     ],
     "prompt_number": 122
    },
    {
     "cell_type": "code",
     "collapsed": false,
     "input": [
      "giant_component = max(list(nx.weakly_connected_component_subgraphs(G)), key=len)\n",
      "nx.single_source_shortest_path_length(giant_component,giant_component[0])"
     ],
     "language": "python",
     "metadata": {},
     "outputs": [
      {
       "ename": "TypeError",
       "evalue": "unhashable type: 'dict'",
       "output_type": "pyerr",
       "traceback": [
        "\u001b[0;31m---------------------------------------------------------------------------\u001b[0m\n\u001b[0;31mTypeError\u001b[0m                                 Traceback (most recent call last)",
        "\u001b[0;32m<ipython-input-130-d1ca5c9fe9c9>\u001b[0m in \u001b[0;36m<module>\u001b[0;34m()\u001b[0m\n\u001b[1;32m      1\u001b[0m \u001b[0mgiant_component\u001b[0m \u001b[0;34m=\u001b[0m \u001b[0mmax\u001b[0m\u001b[0;34m(\u001b[0m\u001b[0mlist\u001b[0m\u001b[0;34m(\u001b[0m\u001b[0mnx\u001b[0m\u001b[0;34m.\u001b[0m\u001b[0mweakly_connected_component_subgraphs\u001b[0m\u001b[0;34m(\u001b[0m\u001b[0mG\u001b[0m\u001b[0;34m)\u001b[0m\u001b[0;34m)\u001b[0m\u001b[0;34m,\u001b[0m \u001b[0mkey\u001b[0m\u001b[0;34m=\u001b[0m\u001b[0mlen\u001b[0m\u001b[0;34m)\u001b[0m\u001b[0;34m\u001b[0m\u001b[0m\n\u001b[1;32m      2\u001b[0m \u001b[0;34m\u001b[0m\u001b[0m\n\u001b[0;32m----> 3\u001b[0;31m \u001b[0mnx\u001b[0m\u001b[0;34m.\u001b[0m\u001b[0msingle_source_shortest_path_length\u001b[0m\u001b[0;34m(\u001b[0m\u001b[0mgiant_component\u001b[0m\u001b[0;34m,\u001b[0m\u001b[0mgiant_component\u001b[0m\u001b[0;34m[\u001b[0m\u001b[0;36m0\u001b[0m\u001b[0;34m]\u001b[0m\u001b[0;34m)\u001b[0m\u001b[0;34m\u001b[0m\u001b[0m\n\u001b[0m",
        "\u001b[0;32m/usr/local/Cellar/python/2.7.5/Frameworks/Python.framework/Versions/2.7/lib/python2.7/site-packages/networkx/algorithms/shortest_paths/unweighted.pyc\u001b[0m in \u001b[0;36msingle_source_shortest_path_length\u001b[0;34m(G, source, cutoff)\u001b[0m\n\u001b[1;32m     54\u001b[0m     \u001b[0mseen\u001b[0m\u001b[0;34m=\u001b[0m\u001b[0;34m{\u001b[0m\u001b[0;34m}\u001b[0m                  \u001b[0;31m# level (number of hops) when seen in BFS\u001b[0m\u001b[0;34m\u001b[0m\u001b[0m\n\u001b[1;32m     55\u001b[0m     \u001b[0mlevel\u001b[0m\u001b[0;34m=\u001b[0m\u001b[0;36m0\u001b[0m                  \u001b[0;31m# the current level\u001b[0m\u001b[0;34m\u001b[0m\u001b[0m\n\u001b[0;32m---> 56\u001b[0;31m     \u001b[0mnextlevel\u001b[0m\u001b[0;34m=\u001b[0m\u001b[0;34m{\u001b[0m\u001b[0msource\u001b[0m\u001b[0;34m:\u001b[0m\u001b[0;36m1\u001b[0m\u001b[0;34m}\u001b[0m  \u001b[0;31m# dict of nodes to check at next level\u001b[0m\u001b[0;34m\u001b[0m\u001b[0m\n\u001b[0m\u001b[1;32m     57\u001b[0m     \u001b[0;32mwhile\u001b[0m \u001b[0mnextlevel\u001b[0m\u001b[0;34m:\u001b[0m\u001b[0;34m\u001b[0m\u001b[0m\n\u001b[1;32m     58\u001b[0m         \u001b[0mthislevel\u001b[0m\u001b[0;34m=\u001b[0m\u001b[0mnextlevel\u001b[0m  \u001b[0;31m# advance to next level\u001b[0m\u001b[0;34m\u001b[0m\u001b[0m\n",
        "\u001b[0;31mTypeError\u001b[0m: unhashable type: 'dict'"
       ]
      }
     ],
     "prompt_number": 130
    },
    {
     "cell_type": "code",
     "collapsed": false,
     "input": [],
     "language": "python",
     "metadata": {},
     "outputs": []
    },
    {
     "cell_type": "markdown",
     "metadata": {},
     "source": [
      "# mentions graph"
     ]
    },
    {
     "cell_type": "code",
     "collapsed": false,
     "input": [
      "mentions_graph = nx.read_gml('graphs/final/gml/dominant_categories.gml')"
     ],
     "language": "python",
     "metadata": {},
     "outputs": [],
     "prompt_number": 83
    },
    {
     "cell_type": "code",
     "collapsed": false,
     "input": [],
     "language": "python",
     "metadata": {},
     "outputs": [
      {
       "output_type": "stream",
       "stream": "stdout",
       "text": [
        "# of naming nodes: 47\n",
        "# of named nodes: 871\n",
        "# of nodes: 904\n",
        "# of edges: 1255\n",
        "average outdegree for nodes with outdegree > 0: 26.7021276596\n",
        "average indegree for nodes with outdegree > 0: 1.44087256028\n",
        "reciprocity for naming graph:"
       ]
      },
      {
       "output_type": "stream",
       "stream": "stdout",
       "text": [
        " 0.0\n",
        "average shortest path length: 0.00265462225228\n",
        "max eccentricity/diameter:"
       ]
      },
      {
       "output_type": "stream",
       "stream": "stdout",
       "text": [
        " 7\n",
        "min eccentricity/radius: "
       ]
      },
      {
       "output_type": "stream",
       "stream": "stdout",
       "text": [
        "4\n",
        "# in periphery (at diameter): "
       ]
      },
      {
       "output_type": "stream",
       "stream": "stdout",
       "text": [
        "24\n",
        "# in center (at radius): "
       ]
      },
      {
       "output_type": "stream",
       "stream": "stdout",
       "text": [
        "20\n",
        "transitivity (fraction of all possible triangles in graph) 0.00346400323307\n",
        "# triangles: 40\n"
       ]
      }
     ],
     "prompt_number": 121
    },
    {
     "cell_type": "code",
     "collapsed": false,
     "input": [
      "eccentricity"
     ],
     "language": "python",
     "metadata": {},
     "outputs": []
    }
   ],
   "metadata": {}
  }
 ]
}