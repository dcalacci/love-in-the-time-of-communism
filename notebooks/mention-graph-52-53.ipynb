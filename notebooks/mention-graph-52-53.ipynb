{
 "metadata": {
  "name": ""
 },
 "nbformat": 3,
 "nbformat_minor": 0,
 "worksheets": [
  {
   "cells": [
    {
     "cell_type": "code",
     "collapsed": false,
     "input": [
      "import testimony.graph as graph\n",
      "import testimony.nameutils as nameutils\n",
      "import testimony.testimony_utils as testimony_utils\n",
      "\n",
      "transcripts = testimony_utils.Transcripts()"
     ],
     "language": "python",
     "outputs": [
      {
       "output_type": "stream",
       "stream": "stdout",
       "text": [
        "Getting speech acts...\n",
        "Merging..."
       ]
      },
      {
       "output_type": "stream",
       "stream": "stdout",
       "text": [
        "\n"
       ]
      }
     ],
     "prompt_number": 1
    },
    {
     "cell_type": "code",
     "collapsed": false,
     "input": [
      "from classifier import Sentence\n",
      "import nltk\n",
      "import ner\n",
      "\n",
      "tokenizer = nltk.data.load('tokenizers/punkt/english.pickle')\n",
      "tagger = ner.SocketNER(host='localhost', port=8080)\n",
      "# --------------------------------------------------------\n",
      "\n",
      "def people_mentioned_in_a_single_speechact(speechact):\n",
      "    \"returns a list of mentioned people from a single speechact \"\n",
      "    people = []\n",
      "    sens = tokenizer.tokenize(speechact)\n",
      "    for sen in sens:\n",
      "        entities_dict = tagger.get_entities(sen)\n",
      "        if entities_dict.has_key('PERSON'):\n",
      "            people.extend(entities_dict['PERSON'])\n",
      "    return people\n",
      "\n",
      "\n",
      "all_mentions_in_transcripts = []\n",
      "\n",
      "for speaker, speechacts in transcripts.speechacts.items():\n",
      "    for speechact in speechacts:\n",
      "        all_mentions_in_transcripts.extend(people_mentioned_in_a_single_speechact(speechact))\n",
      "    #mentions = map(people_mentioned_in_a_single_speechact, speechacts)\n",
      "    #total_mentions.extend(mentions)\n",
      "\n",
      "len(all_mentions_in_transcripts)\n"
     ],
     "language": "python",
     "outputs": [
      {
       "metadata": null,
       "output_type": "pyout",
       "prompt_number": 2,
       "text": [
        "5405"
       ]
      }
     ],
     "prompt_number": 2
    },
    {
     "cell_type": "markdown",
     "source": [
      "There's an interesting thing here. \n",
      "\n",
      "_mentions from all hearings:_ 14282\n",
      "\n",
      "_mentions from 1952-1953:_ 5405"
     ]
    },
    {
     "cell_type": "code",
     "collapsed": false,
     "input": [
      "# clean the list\n",
      "orig_len = len(all_mentions_in_transcripts)\n",
      "all_mentions_in_transcripts = map(lambda n: n.lower(), all_mentions_in_transcripts)\n",
      "bad_entries = ['mr.', 'mrs.', 'mr. ', 'dr. ', ] #sometimes there are orphaned titles\n",
      "length_threshold = 3\n",
      "all_mentions_in_transcripts = [name for name in all_mentions_in_transcripts if not name in bad_entries]\n",
      "all_mentions_in_transcripts = [name for name in all_mentions_in_transcripts if len(name) > 3]\n",
      "\n",
      "print \"removed\", orig_len - len(all_mentions_in_transcripts), \"bad mentions\""
     ],
     "language": "python",
     "outputs": [
      {
       "output_type": "stream",
       "stream": "stdout",
       "text": [
        "removed 0 bad mentions\n"
       ]
      }
     ],
     "prompt_number": 6
    },
    {
     "cell_type": "code",
     "collapsed": false,
     "input": [
      "import difflib\n",
      "\n",
      "def has_been_chunked_approximate(s, chunklist, threshold=3):\n",
      "    for chunk in chunklist:\n",
      "        approx_chunk = filter(lambda sliver: nameutils.are_close_tokens(s, sliver, threshold), chunk)\n",
      "        if approx_chunk: return True\n",
      "    return False\n",
      "\n",
      "def has_been_chunked(s, chunklist):\n",
      "    for chunk in chunklist:\n",
      "        if s in chunk: return True\n",
      "    return False\n",
      "\n",
      "def chunk_list(l):\n",
      "    chunklist = []\n",
      "    for s in l:\n",
      "        if has_been_chunked(s, chunklist):\n",
      "            continue\n",
      "        close_matches = difflib.get_close_matches(s, l, 100, 0.8)\n",
      "        chunklist.append(close_matches)\n",
      "\n",
      "    return chunklist"
     ],
     "language": "python",
     "outputs": [],
     "prompt_number": 98
    },
    {
     "cell_type": "code",
     "collapsed": false,
     "input": [
      "chunked_mentions = chunk_list(all_mentions_in_transcripts)\n",
      "chunked_mentions_no_repeats = map(lambda l: list(set(l)), chunked_mentions)\n",
      "len(chunked_mentions)"
     ],
     "language": "python",
     "outputs": [
      {
       "output_type": "pyout",
       "prompt_number": 9,
       "text": [
        "1485"
       ]
      }
     ],
     "prompt_number": 9
    },
    {
     "cell_type": "markdown",
     "source": [
      "# now, to compare against the summaries"
     ]
    },
    {
     "cell_type": "code",
     "collapsed": false,
     "input": [
      "import networkx as nx\n",
      "\n",
      "G = nx.read_gml('graphs/unweighted.gml')\n"
     ],
     "language": "python",
     "outputs": [],
     "prompt_number": 10
    },
    {
     "cell_type": "markdown",
     "source": [
      "# people named in the summaries"
     ]
    },
    {
     "cell_type": "code",
     "collapsed": false,
     "input": [
      "people_named_in_graph = []\n",
      "\n",
      "for edge in G.edges_iter():\n",
      "    target_id = edge[1]\n",
      "    people_named_in_graph.append(G.node[target_id]['label'])\n",
      "\n",
      "\n",
      "named_in_graph_and_mentioned_in_transcripts = filter(lambda s: has_been_chunked(s, chunked_mentions),\n",
      "                                                     people_named_in_graph)\n",
      "\n",
      "named_in_graph_and_mentioned_in_transcripts = list(set(named_in_graph_and_mentioned_in_transcripts))"
     ],
     "language": "python",
     "outputs": [],
     "prompt_number": 13
    },
    {
     "cell_type": "markdown",
     "source": [
      "# snitches in the summaries"
     ]
    },
    {
     "cell_type": "code",
     "collapsed": false,
     "input": [
      "# snitches in graph\n",
      "\n",
      "#speakers_in_transcripts = map(lambda s: s.replace(\"-\", \" \"), transcripts.names)\n",
      "speakers_in_transcripts = transcripts.speechacts.keys()\n",
      "chunked_speakers = chunk_list(speakers_in_transcripts)\n",
      "\n",
      "snitches_in_graph = []\n",
      "for edge in G.edges_iter():\n",
      "    snitch_id = edge[0]\n",
      "    snitches_in_graph.append(G.node[snitch_id]['label'])\n",
      "\n",
      "snitches_in_graph = list(set(snitches_in_graph))\n",
      "\n",
      "snitched_in_graph_and_speaker_in_transcripts = filter(lambda s: has_been_chunked(s, chunked_speakers), \n",
      "                                                      snitches_in_graph)\n",
      "\n",
      "snitches_in_graph[:10]"
     ],
     "language": "python",
     "outputs": [
      {
       "output_type": "pyout",
       "prompt_number": 27,
       "text": [
        "[u'sol short',\n",
        " u'bart lytton',\n",
        " u'leo bigelman',\n",
        " u'charles daggett',\n",
        " u'david a. lang',\n",
        " u'william l. alland',\n",
        " u'percy solotoy',\n",
        " u'melvin levy',\n",
        " u'reuben ship',\n",
        " u'harold ashe']"
       ]
      }
     ],
     "prompt_number": 27
    },
    {
     "cell_type": "markdown",
     "source": [
      "# results!"
     ]
    },
    {
     "cell_type": "code",
     "collapsed": false,
     "input": [
      "names_present_in_graph_and_transcripts = []\n",
      "\n",
      "for id in G.nodes_iter():\n",
      "    node = G.node[id]\n",
      "    name = node['label']\n",
      "    if has_been_chunked(name, chunked_mentions):\n",
      "        names_present_in_graph_and_transcripts.append(name)\n",
      "\n",
      "\n",
      "\n",
      "# TODO:\n",
      "# people mentioned in transcripts by the people who named them in the graph.\n",
      "\n",
      "print \"Total names in graph:\", len(G.node)\n",
      "print \"Total names mentioned in transcripts:\", len(chunked_mentions), \"\\n\"\n",
      "print \"#mentioned in transcripts & present in graph:\", len(names_present_in_graph_and_transcripts)\n",
      "print \"#present in graph but not mentioned in transcripts:\", len(G.node) - len(names_present_in_graph_and_transcripts)\n",
      "print \"#mentioned in transcripts but not graph:\", len(chunked_mentions) - len(G.node), \"\\n\"\n",
      "\n",
      "print \"#people named in graph:\", len(people_named_in_graph)\n",
      "print \"#people named in graph and mentioned in transcripts:\", len(named_in_graph_and_mentioned_in_transcripts), \"\\n\"\n",
      "\n",
      "print \"#snitches who spoke in transcripts:\", len(snitched_in_graph_and_speaker_in_transcripts), \"/\", len(snitches_in_graph)"
     ],
     "language": "python",
     "outputs": [
      {
       "output_type": "stream",
       "stream": "stdout",
       "text": [
        "Total names in graph: 308\n",
        "Total names mentioned in transcripts: 1485 \n",
        "\n",
        "#mentioned in transcripts & present in graph: 200\n",
        "#present in graph but not mentioned in transcripts: 108\n",
        "#mentioned in transcripts but not graph: 1177 \n",
        "\n",
        "#people named in graph: 383\n",
        "#people named in graph and mentioned in transcripts: 182 \n",
        "\n",
        "#snitches who spoke in transcripts: 15 / 54\n"
       ]
      }
     ],
     "prompt_number": 14
    },
    {
     "cell_type": "markdown",
     "source": [
      "# Summary of intersection\n",
      " - 15 snitches named 182 people.\n",
      "\n",
      "Is it strange that in the full transcript, 185 people were named &\n",
      "mentioned, but for only years 52-53, 182 were named & mentioned?\n",
      "\n",
      " - Actually, this makes sense, because it means that the majority of\n",
      "   people who were identified as being accused from the full\n",
      "   transcript were being  mentioned during the years 52-53.\n",
      "\n",
      "So this is good.\n",
      "\n",
      "The weird thing is that only 15 of the snitches have spoken in the\n",
      "52-53 years. These 'snitches' are people who named someone during the\n",
      "52-53 years, so the only explanation is that I'm missing data or\n",
      "matching incorrectly.\n",
      "\n",
      "...but could this also mean that the majority of people who were named\n",
      "were mentioned by only 15 people?\n",
      "\n",
      "no, that doesn't make any sense. I am necessarily missing some data,\n",
      "because if 54 people were snitches, and only 15 actually speak in \n",
      "the hearings I have from 1952-1953, then there's something I'm missing.\n",
      "\n",
      "what does the distribution look like?"
     ]
    },
    {
     "cell_type": "code",
     "collapsed": false,
     "input": [
      "%matplotlib inline"
     ],
     "language": "python",
     "outputs": [],
     "prompt_number": 16
    },
    {
     "cell_type": "code",
     "collapsed": false,
     "input": [
      "# distribution of people naming other people.\n",
      "# this only includes snitches who have spoken in hearings.\n",
      "import matplotlib.pyplot as plt\n",
      "import numpy as np\n",
      "\n",
      "naming_dist = {}\n",
      "\n",
      "def get_id_by_label(G, label):\n",
      "    for id in G.nodes_iter():\n",
      "        if G.node[id]['label'] == label:\n",
      "            return id\n",
      "\n",
      "get_id_by_label(G, 'larry parks')\n",
      "\n",
      "for snitch in snitched_in_graph_and_speaker_in_transcripts:\n",
      "    snitch_id = get_id_by_label(G, snitch)\n",
      "    naming_dist[snitch] = len(G[snitch_id].keys())\n",
      "\n",
      "plt.bar(range(len(naming_dist)), naming_dist.values(), align='center')\n",
      "plt.xticks(range(len(naming_dist)), naming_dist.keys(), rotation='vertical')\n",
      "\n",
      "plt.show()\n",
      "\n",
      "number_named = [tup[1] for tup in naming_dist.items()]\n",
      "print \"median number of people named: \", np.median(number_named)\n",
      "print \"mean number of people named: \", np.mean(number_named)\n",
      "\n",
      "print \"removing the bad apples...\"\n",
      "\n",
      "naming_dist.pop(\"anne kinney\")\n",
      "naming_dist.pop(\"david a. lang\")\n",
      "\n",
      "\n",
      "plt.bar(range(len(naming_dist)), naming_dist.values(), align='center')\n",
      "plt.xticks(range(len(naming_dist)), naming_dist.keys(), rotation='vertical')\n",
      "\n",
      "plt.show()\n",
      "\n",
      "number_named = [tup[1] for tup in naming_dist.items()]\n",
      "print \"median number of people named: \", np.median(number_named)\n",
      "print \"mean number of people named: \", np.mean(number_named)   "
     ],
     "language": "python",
     "outputs": [
      {
       "metadata": null,
       "output_type": "display_data",
       "png": "[encoded data removed]",
       "text": [
        "<matplotlib.figure.Figure at 0x10a4a7a50>"
       ]
      },
      {
       "output_type": "stream",
       "stream": "stdout",
       "text": [
        "median number of people named:  5.0\n",
        "mean number of people named:  17.4\n",
        "removing the bad apples...\n"
       ]
      },
      {
       "metadata": null,
       "output_type": "display_data",
       "png": "[encoded data removed]",
       "text": [
        "<matplotlib.figure.Figure at 0x1078abb10>"
       ]
      },
      {
       "output_type": "stream",
       "stream": "stdout",
       "text": [
        "median number of people named:  4.0\n",
        "mean number of people named:  4.46153846154\n"
       ]
      }
     ],
     "prompt_number": 141
    },
    {
     "cell_type": "markdown",
     "source": [
      "# how many mentions come from the person that named them?"
     ]
    },
    {
     "cell_type": "code",
     "collapsed": false,
     "input": [
      "# for name in transcripts.speechacts.keys():\n",
      "#     print name, \"->\", transcripts.get_closest_name(name)\n",
      "def people_named_from_summary(snitch):\n",
      "    snitch_id = get_id_by_label(G, snitch)\n",
      "    people_named = []\n",
      "    for accused_id in G[2].keys():\n",
      "        people_named.append(G.node[accused_id]['label'])\n",
      "    return people_named\n",
      "\n",
      "def mention_list_for_snitch(snitch):\n",
      "    snitch_speechacts = transcripts.speechacts[snitch]\n",
      "    people_mentioned_in_all_snitch_speechacts = []\n",
      "    for speechact in snitch_speechacts:\n",
      "        people_mentioned = people_mentioned_in_a_single_speechact(speechact)\n",
      "        people_mentioned = map(lambda s: s.lower(), people_mentioned)\n",
      "        people_mentioned_in_all_snitch_speechacts.extend(people_mentioned)\n",
      "    return people_mentioned_in_all_snitch_speechacts\n",
      "    \n",
      "snitch_mentioned_and_named = {}\n",
      "\n",
      "for snitch in snitched_in_graph_and_speaker_in_transcripts:\n",
      "    # chunked_mentions = chunked_mention_list_for_snitch(snitch)\n",
      "    people_named = people_named_from_summary(snitch)\n",
      "    people_mentioned = mention_list_for_snitch(snitch)\n",
      "    people_named_and_mentioned_by_snitch = filter(lambda n: difflib.get_close_matches(n, people_mentioned, 100, 0.8), people_named)\n",
      "    if people_named_and_mentioned_by_snitch:\n",
      "        snitch_mentioned_and_named[snitch] = list(set(people_named_and_mentioned_by_snitch))"
     ],
     "language": "python",
     "outputs": [],
     "prompt_number": 129
    },
    {
     "cell_type": "code",
     "collapsed": false,
     "input": [
      "snitch_mentioned_and_named\n",
      "\n",
      "ratio_mentioned_named = 0\n",
      "for name, named in snitch_mentioned_and_named.items():\n",
      "    ratio = float(len(named)) / len(people_named_from_summary(name))\n",
      "    ratio_mentioned_named += ratio\n",
      "ratio_mentioned_named = ratio_mentioned_named/len(snitch_mentioned_and_named.keys())\n",
      "\n",
      "print \"# snitches who mention someone they name from summaries:\", len(snitch_mentioned_and_named.keys()), \"/\", len(snitched_in_graph_and_speaker_in_transcripts)\n",
      "print \"average proportion of #mentions/#named:\", ratio_mentioned_named\n"
     ],
     "language": "python",
     "outputs": [
      {
       "output_type": "stream",
       "stream": "stdout",
       "text": [
        "# snitches who mention someone they name from summaries: 5 / 15\n",
        "average proportion of #mentions/#named: 0.2\n"
       ]
      }
     ],
     "prompt_number": 140
    },
    {
     "cell_type": "markdown",
     "source": [
      "# summary\n",
      "5/15 snitches mention someone they name from the summaries.\n",
      "\n",
      "In those 5/15, they mention on average 20% of the people they name.\n",
      "\n",
      "not great.\n",
      "\n",
      "# options\n",
      "\n",
      " - the way I'm computing mentions isn't great? Would I get better\n",
      "   results with a different algorithm?\n",
      "\n",
      " - they're being mentioned by the interviewers more than the interviewees.\n",
      "\n",
      "   - this means that coreference resolution might be needed in order\n",
      "     to compute sentiment\n",
      "   \n",
      "   - or, alternatively, looking for pronouns in a response that\n",
      "     immediately follows a speechact that mentions someone that was\n",
      "     named, and then computing sentiment for that reference."
     ]
    },
    {
     "cell_type": "code",
     "collapsed": false,
     "input": [],
     "language": "python",
     "outputs": []
    }
   ]
  }
 ]
}