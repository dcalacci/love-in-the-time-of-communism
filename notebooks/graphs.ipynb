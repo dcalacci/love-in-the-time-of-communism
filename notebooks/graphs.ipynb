{
 "metadata": {
  "name": ""
 },
 "nbformat": 3,
 "nbformat_minor": 0,
 "worksheets": [
  {
   "cells": [
    {
     "cell_type": "markdown",
     "metadata": {},
     "source": [
      "# analyzing the graphs\n",
      "\n",
      "## Setup"
     ]
    },
    {
     "cell_type": "markdown",
     "metadata": {},
     "source": [
      "### General imports and data"
     ]
    },
    {
     "cell_type": "code",
     "collapsed": false,
     "input": [],
     "language": "python",
     "metadata": {},
     "outputs": []
    },
    {
     "cell_type": "code",
     "collapsed": false,
     "input": [
      "import pickle\n",
      "import os\n",
      "import difflib\n",
      "import text_utils\n",
      "import collections\n",
      "import numpy as np\n",
      "import pandas as pd\n",
      "import networkx as nx\n",
      "\n",
      "\n",
      "transcript_dir = os.path.join(\"testimony/text/hearings\")\n",
      "\n",
      "interviewee_names = [f.replace(\".txt\", \"\") for f in os.listdir(transcript_dir)]\n",
      "interviewee_names = map(lambda s: s.replace(\"-\", \" \"), interviewee_names)\n",
      "irrelevant_categories = ['Cause', 'Past', 'See', 'Home', 'Humans', 'School', 'Space', 'Sleep', 'FillersSpaced','Eating', 'TV', 'Family', 'Number', 'Present', 'Othref', 'Pronoun', 'Cogmech', 'Preps', 'Space', 'Negate', 'Achieve', 'Time', 'We', 'Senses', 'Article', 'Insight', 'Hear', 'Motion', 'Up', 'Leisure', 'Cogmech', 'Other', 'Comm', 'Discrep', 'Music', 'Future', 'Body', 'Physcal', 'Money', 'Down', 'Assent', 'Metaph', 'Feel', 'You', 'Affect', 'Inhib', 'Self', 'Social', 'Incl', 'Excl', 'Optim', 'Occup', 'Sports', 'Job', 'I']\n",
      "\n",
      "def is_interviewer(name):\n",
      "    return not difflib.get_close_matches(name, interviewee_names)\n",
      "\n",
      "%pylab inline\n",
      "\n",
      "#df = pd.read_pickle('pickles/final/final_dataframe.p')"
     ],
     "language": "python",
     "metadata": {},
     "outputs": [
      {
       "output_type": "stream",
       "stream": "stdout",
       "text": [
        "Populating the interactive namespace from numpy and matplotlib\n"
       ]
      },
      {
       "output_type": "stream",
       "stream": "stderr",
       "text": [
        "WARNING: pylab import has clobbered these variables: ['f']\n",
        "`%pylab --no-import-all` prevents importing * from pylab and numpy\n"
       ]
      }
     ],
     "prompt_number": 645
    },
    {
     "cell_type": "markdown",
     "metadata": {},
     "source": [
      "### Disambiguating Names"
     ]
    },
    {
     "cell_type": "code",
     "collapsed": false,
     "input": [
      "disambiguated_names = pickle.load(open('pickles/final/disambiguated_names.p', 'rb'))\n",
      "\n",
      "def get_key(mention, l):\n",
      "    \"returns the numerical key for the given mention\"\n",
      "    mention = mention.lower()\n",
      "    for chunk in l:\n",
      "        if mention in chunk:\n",
      "            return l.index(chunk)"
     ],
     "language": "python",
     "metadata": {},
     "outputs": [],
     "prompt_number": 9
    },
    {
     "cell_type": "markdown",
     "metadata": {},
     "source": [
      "### LIWC Category Score helpers"
     ]
    },
    {
     "cell_type": "code",
     "collapsed": false,
     "input": [
      "def update_dict(old, to_add):\n",
      "    for key in to_add.keys():\n",
      "        if old.has_key(key):\n",
      "            old[key] += to_add[key]\n",
      "        else:\n",
      "            old[key] = to_add[key]\n",
      "    return old\n",
      "\n",
      "def normalize_dict(d, count):\n",
      "    \"normalizes by a count of edges\"\n",
      "    newdict = {}\n",
      "    for k,v in d.items():\n",
      "        newval = v/float(count)\n",
      "        if newval < 1:\n",
      "            newdict[k] = newval\n",
      "    return newdict\n",
      "\n",
      "def filter_categories(d, cats):\n",
      "    newdict = {}\n",
      "    for k,v in d.items():\n",
      "        if k in cats:\n",
      "            newdict[k] = v\n",
      "    return newdict\n",
      "\n",
      "def filter_out_categories(d, cats):\n",
      "    newdict = {}\n",
      "    for k,v in d.items():\n",
      "        if k not in cats:\n",
      "            newdict[k] = v\n",
      "    return newdict"
     ],
     "language": "python",
     "metadata": {},
     "outputs": [],
     "prompt_number": 4
    },
    {
     "cell_type": "markdown",
     "metadata": {},
     "source": [
      "## Dominant LIWC Categories\n",
      "\n",
      "These graphs have edges colored and organized by the dominant liwc\n",
      "category expressed in the sentences where mentioning occurs.\n",
      "\n",
      "### Computing general categories for mentions\n",
      "These don't include mentions of interviewers."
     ]
    },
    {
     "cell_type": "markdown",
     "metadata": {},
     "source": [
      "#### Utilities for computing non-normalized category scores\n",
      "\n",
      "Can't just multiply by the length of the sentence because the sentence\n",
      "length is different than the token length used to compute the category\n",
      "scores."
     ]
    },
    {
     "cell_type": "code",
     "collapsed": false,
     "input": [
      "import simplejson\n",
      "import jsonrpclib\n",
      "import corenlp_utils\n",
      "import lexicons.lexiconUtils as sentimentUtils\n",
      "from collections import defaultdict\n",
      "\n",
      "liwc = sentimentUtils.liwcDict()\n",
      "\n",
      "def liwc_categories_for_sen_not_normalized(sen_obj):\n",
      "    \"\"\"\n",
      "    Produces a dictionary of category scores for the given sen_objtence, of the form\n",
      "    {category: score, ...}\n",
      "    \"\"\"\n",
      "    category_scores = defaultdict(int)\n",
      "    for word in sen_obj['words']:\n",
      "        lemma = word[1]['Lemma']\n",
      "        categories = liwc.getCategories(lemma)\n",
      "        if not categories:\n",
      "            continue\n",
      "        for category in categories:\n",
      "            category_scores[category] += 1\n",
      "    return category_scores\n",
      "\n",
      "def liwc_categories_by_sentence_not_normalized(speechact):\n",
      "    sens = speechact['sentences']\n",
      "    categories = map(liwc_categories_for_sen_not_normalized, sens)\n",
      "    return categories\n",
      "\n",
      "server = jsonrpclib.Server(\"http://localhost:8080\")"
     ],
     "language": "python",
     "metadata": {},
     "outputs": []
    },
    {
     "cell_type": "markdown",
     "metadata": {},
     "source": [
      "#### Add a column in the dataframe for non-normalized categories:"
     ]
    },
    {
     "cell_type": "code",
     "collapsed": false,
     "input": [
      "nn_categories_by_sentence = []\n",
      "for n, row in df.iterrows():\n",
      "    if n % 1000 == 0:\n",
      "        print \"analyzed\", n, \"rows.\"\n",
      "    obj = corenlp_utils.get_corenlp_object(row['speechact'], server)\n",
      "    if not obj:\n",
      "        nn_categories_by_sentence.append(np.nan)\n",
      "    else:\n",
      "        nn_categories_by_sentence.append(liwc_categories_by_sentence_not_normalized(obj))"
     ],
     "language": "python",
     "metadata": {},
     "outputs": [],
     "prompt_number": "*"
    },
    {
     "cell_type": "code",
     "collapsed": false,
     "input": [
      "\n",
      "# the graph data has to be stored in a separate dict until we\n",
      "# construct the graph; adding multiple edges between two nodes just\n",
      "# replaces the attributes. We want to average/accumulate them.\n",
      "\n",
      "nn_categories_by_sentence = []\n",
      "\n",
      "nn_graph_data = collections.defaultdict(lambda : collections.defaultdict(dict))\n",
      "graph_data = collections.defaultdict(lambda : collections.defaultdict(dict))\n",
      "count_data = collections.defaultdict(int)\n",
      "\n",
      "skipped = 0\n",
      "for n, row in df.iterrows():\n",
      "    if n % 500 == 0:\n",
      "        print n, \"rows analyzed\"\n",
      "\n",
      "    speaker = row['speaker']\n",
      "    if is_interviewer(speaker):\n",
      "        skipped += 1\n",
      "        continue\n",
      "        \n",
      "    # there's anaphora\n",
      "    mention_list_w_anaphora = row['mention_list_by_sentence_with_anaphora']\n",
      "    mention_list_wo_anaphora = row['mention_list_by_sentence_without_anaphora']\n",
      "    categories_by_sentence = row['liwc_categories_by_sentence']\n",
      "\n",
      "    speaker = get_key(speaker, disambiguated_names)\n",
      "\n",
      "    if type(mention_list_w_anaphora) == list:\n",
      "       categories_towards_mentions = {}\n",
      "       for n, mentions in enumerate(mention_list_w_anaphora):\n",
      "           for mention in mentions:\n",
      "               mention = get_key(mention, disambiguated_names)\n",
      "               if speaker == mention or not mention:\n",
      "                   skipped += 1\n",
      "                   continue\n",
      "               categories_for_mention = filter_out_categories(categories_by_sentence[n], irrelevant_categories)\n",
      "               graph_data[speaker][mention] = update_dict(graph_data[speaker][mention], categories_for_mention)\n",
      "               nn_graph_data[speaker][mention] = update_dict(nn_graph_data[speaker][mention], categories_for_mention)\n",
      "               count_data[(speaker, mention)] += 1\n",
      "        \n",
      "    elif type(mention_list_wo_anaphora) == list:\n",
      "        categories_towards_mentions = {}\n",
      "        for n, mentions in enumerate(mention_list_wo_anaphora):\n",
      "            for mention in mentions:\n",
      "                mention = get_key(mention, disambiguated_names)\n",
      "                # don't include self-mentions; this will screw up\n",
      "                # centrality measures and is not a meaningful measure\n",
      "                if speaker == mention or not mention:\n",
      "                    skipped += 1\n",
      "                    continue\n",
      "                categories_for_mention = filter_out_categories(categories_by_sentence[n], irrelevant_categories)\n",
      "                graph_data[speaker][mention] = update_dict(graph_data[speaker][mention], categories_for_mention)\n",
      "                nn_graph_data[speaker][mention] = update_dict(nn_graph_data[speaker][mention], categories_for_mention)\n",
      "                count_data[(speaker, mention)] += 1\n",
      "                #G.add_edge(speaker, mention, categories_for_mention)\n",
      "print \"skipped\", skipped\n",
      "print \"nn_graph_data and graph_data are now populated.\""
     ],
     "language": "python",
     "metadata": {},
     "outputs": [
      {
       "output_type": "stream",
       "stream": "stdout",
       "text": [
        "0 rows analyzed\n",
        "500"
       ]
      },
      {
       "ename": "KeyboardInterrupt",
       "evalue": "",
       "output_type": "pyerr",
       "traceback": [
        "\u001b[0;31m---------------------------------------------------------------------------\u001b[0m\n\u001b[0;31mKeyboardInterrupt\u001b[0m                         Traceback (most recent call last)",
        "\u001b[0;32m<ipython-input-698-73ccf8261b3c>\u001b[0m in \u001b[0;36m<module>\u001b[0;34m()\u001b[0m\n\u001b[1;32m     25\u001b[0m     \u001b[0mcategories_by_sentence\u001b[0m \u001b[0;34m=\u001b[0m \u001b[0mrow\u001b[0m\u001b[0;34m[\u001b[0m\u001b[0;34m'liwc_categories_by_sentence'\u001b[0m\u001b[0;34m]\u001b[0m\u001b[0;34m\u001b[0m\u001b[0m\n\u001b[1;32m     26\u001b[0m \u001b[0;34m\u001b[0m\u001b[0m\n\u001b[0;32m---> 27\u001b[0;31m     \u001b[0mobj\u001b[0m \u001b[0;34m=\u001b[0m \u001b[0mcorenlp_utils\u001b[0m\u001b[0;34m.\u001b[0m\u001b[0mget_corenlp_object\u001b[0m\u001b[0;34m(\u001b[0m\u001b[0mrow\u001b[0m\u001b[0;34m[\u001b[0m\u001b[0;34m'speechact'\u001b[0m\u001b[0;34m]\u001b[0m\u001b[0;34m,\u001b[0m \u001b[0mserver\u001b[0m\u001b[0;34m)\u001b[0m\u001b[0;34m\u001b[0m\u001b[0m\n\u001b[0m\u001b[1;32m     28\u001b[0m     \u001b[0;32mif\u001b[0m \u001b[0;32mnot\u001b[0m \u001b[0mobj\u001b[0m\u001b[0;34m:\u001b[0m\u001b[0;34m\u001b[0m\u001b[0m\n\u001b[1;32m     29\u001b[0m         \u001b[0mnn_categories_by_sentence\u001b[0m\u001b[0;34m.\u001b[0m\u001b[0mappend\u001b[0m\u001b[0;34m(\u001b[0m\u001b[0mnp\u001b[0m\u001b[0;34m.\u001b[0m\u001b[0mnan\u001b[0m\u001b[0;34m)\u001b[0m\u001b[0;34m\u001b[0m\u001b[0m\n",
        "\u001b[0;32m/Users/dan/seafile/classes/research/huac-testimony/corenlp_utils.pyc\u001b[0m in \u001b[0;36mget_corenlp_object\u001b[0;34m(speech, server)\u001b[0m\n\u001b[1;32m    221\u001b[0m         \u001b[0;32mreturn\u001b[0m \u001b[0mNone\u001b[0m\u001b[0;34m\u001b[0m\u001b[0m\n\u001b[1;32m    222\u001b[0m     \u001b[0;32mtry\u001b[0m\u001b[0;34m:\u001b[0m\u001b[0;34m\u001b[0m\u001b[0m\n\u001b[0;32m--> 223\u001b[0;31m         \u001b[0;32mreturn\u001b[0m \u001b[0mloads\u001b[0m\u001b[0;34m(\u001b[0m\u001b[0mserver\u001b[0m\u001b[0;34m.\u001b[0m\u001b[0mparse\u001b[0m\u001b[0;34m(\u001b[0m\u001b[0mspeech\u001b[0m\u001b[0;34m)\u001b[0m\u001b[0;34m)\u001b[0m\u001b[0;34m\u001b[0m\u001b[0m\n\u001b[0m\u001b[1;32m    224\u001b[0m     \u001b[0;32mexcept\u001b[0m \u001b[0;34m(\u001b[0m\u001b[0mKeyboardInterrupt\u001b[0m\u001b[0;34m,\u001b[0m \u001b[0mSystemExit\u001b[0m\u001b[0;34m)\u001b[0m\u001b[0;34m:\u001b[0m\u001b[0;34m\u001b[0m\u001b[0m\n\u001b[1;32m    225\u001b[0m         \u001b[0;32mraise\u001b[0m\u001b[0;34m\u001b[0m\u001b[0m\n",
        "\u001b[0;32m/usr/local/Cellar/python/2.7.5/Frameworks/Python.framework/Versions/2.7/lib/python2.7/site-packages/jsonrpclib/jsonrpc.pyc\u001b[0m in \u001b[0;36m__call__\u001b[0;34m(self, *args, **kwargs)\u001b[0m\n\u001b[1;32m    272\u001b[0m                 'and keyword arguments (according to JSON-RPC spec.)')\n\u001b[1;32m    273\u001b[0m         \u001b[0;32mif\u001b[0m \u001b[0mlen\u001b[0m\u001b[0;34m(\u001b[0m\u001b[0margs\u001b[0m\u001b[0;34m)\u001b[0m \u001b[0;34m>\u001b[0m \u001b[0;36m0\u001b[0m\u001b[0;34m:\u001b[0m\u001b[0;34m\u001b[0m\u001b[0m\n\u001b[0;32m--> 274\u001b[0;31m             \u001b[0;32mreturn\u001b[0m \u001b[0mself\u001b[0m\u001b[0;34m.\u001b[0m\u001b[0m__send\u001b[0m\u001b[0;34m(\u001b[0m\u001b[0mself\u001b[0m\u001b[0;34m.\u001b[0m\u001b[0m__name\u001b[0m\u001b[0;34m,\u001b[0m \u001b[0margs\u001b[0m\u001b[0;34m)\u001b[0m\u001b[0;34m\u001b[0m\u001b[0m\n\u001b[0m\u001b[1;32m    275\u001b[0m         \u001b[0;32melse\u001b[0m\u001b[0;34m:\u001b[0m\u001b[0;34m\u001b[0m\u001b[0m\n\u001b[1;32m    276\u001b[0m             \u001b[0;32mreturn\u001b[0m \u001b[0mself\u001b[0m\u001b[0;34m.\u001b[0m\u001b[0m__send\u001b[0m\u001b[0;34m(\u001b[0m\u001b[0mself\u001b[0m\u001b[0;34m.\u001b[0m\u001b[0m__name\u001b[0m\u001b[0;34m,\u001b[0m \u001b[0mkwargs\u001b[0m\u001b[0;34m)\u001b[0m\u001b[0;34m\u001b[0m\u001b[0m\n",
        "\u001b[0;32m/usr/local/Cellar/python/2.7.5/Frameworks/Python.framework/Versions/2.7/lib/python2.7/site-packages/jsonrpclib/jsonrpc.pyc\u001b[0m in \u001b[0;36m_request\u001b[0;34m(self, methodname, params, rpcid)\u001b[0m\n\u001b[1;32m    222\u001b[0m         request = dumps(params, methodname, encoding=self.__encoding,\n\u001b[1;32m    223\u001b[0m                         rpcid=rpcid, version=self.__version)\n\u001b[0;32m--> 224\u001b[0;31m         \u001b[0mresponse\u001b[0m \u001b[0;34m=\u001b[0m \u001b[0mself\u001b[0m\u001b[0;34m.\u001b[0m\u001b[0m_run_request\u001b[0m\u001b[0;34m(\u001b[0m\u001b[0mrequest\u001b[0m\u001b[0;34m)\u001b[0m\u001b[0;34m\u001b[0m\u001b[0m\n\u001b[0m\u001b[1;32m    225\u001b[0m         \u001b[0mcheck_for_errors\u001b[0m\u001b[0;34m(\u001b[0m\u001b[0mresponse\u001b[0m\u001b[0;34m)\u001b[0m\u001b[0;34m\u001b[0m\u001b[0m\n\u001b[1;32m    226\u001b[0m         \u001b[0;32mreturn\u001b[0m \u001b[0mresponse\u001b[0m\u001b[0;34m[\u001b[0m\u001b[0;34m'result'\u001b[0m\u001b[0;34m]\u001b[0m\u001b[0;34m\u001b[0m\u001b[0m\n",
        "\u001b[0;32m/usr/local/Cellar/python/2.7.5/Frameworks/Python.framework/Versions/2.7/lib/python2.7/site-packages/jsonrpclib/jsonrpc.pyc\u001b[0m in \u001b[0;36m_run_request\u001b[0;34m(self, request, notify)\u001b[0m\n\u001b[1;32m    240\u001b[0m             \u001b[0mself\u001b[0m\u001b[0;34m.\u001b[0m\u001b[0m__handler\u001b[0m\u001b[0;34m,\u001b[0m\u001b[0;34m\u001b[0m\u001b[0m\n\u001b[1;32m    241\u001b[0m             \u001b[0mrequest\u001b[0m\u001b[0;34m,\u001b[0m\u001b[0;34m\u001b[0m\u001b[0m\n\u001b[0;32m--> 242\u001b[0;31m             \u001b[0mverbose\u001b[0m\u001b[0;34m=\u001b[0m\u001b[0mself\u001b[0m\u001b[0;34m.\u001b[0m\u001b[0m__verbose\u001b[0m\u001b[0;34m\u001b[0m\u001b[0m\n\u001b[0m\u001b[1;32m    243\u001b[0m         )\n\u001b[1;32m    244\u001b[0m \u001b[0;34m\u001b[0m\u001b[0m\n",
        "\u001b[0;32m/usr/local/Cellar/python/2.7.5/Frameworks/Python.framework/Versions/2.7/lib/python2.7/xmlrpclib.pyc\u001b[0m in \u001b[0;36mrequest\u001b[0;34m(self, host, handler, request_body, verbose)\u001b[0m\n\u001b[1;32m   1262\u001b[0m         \u001b[0;32mfor\u001b[0m \u001b[0mi\u001b[0m \u001b[0;32min\u001b[0m \u001b[0;34m(\u001b[0m\u001b[0;36m0\u001b[0m\u001b[0;34m,\u001b[0m \u001b[0;36m1\u001b[0m\u001b[0;34m)\u001b[0m\u001b[0;34m:\u001b[0m\u001b[0;34m\u001b[0m\u001b[0m\n\u001b[1;32m   1263\u001b[0m             \u001b[0;32mtry\u001b[0m\u001b[0;34m:\u001b[0m\u001b[0;34m\u001b[0m\u001b[0m\n\u001b[0;32m-> 1264\u001b[0;31m                 \u001b[0;32mreturn\u001b[0m \u001b[0mself\u001b[0m\u001b[0;34m.\u001b[0m\u001b[0msingle_request\u001b[0m\u001b[0;34m(\u001b[0m\u001b[0mhost\u001b[0m\u001b[0;34m,\u001b[0m \u001b[0mhandler\u001b[0m\u001b[0;34m,\u001b[0m \u001b[0mrequest_body\u001b[0m\u001b[0;34m,\u001b[0m \u001b[0mverbose\u001b[0m\u001b[0;34m)\u001b[0m\u001b[0;34m\u001b[0m\u001b[0m\n\u001b[0m\u001b[1;32m   1265\u001b[0m             \u001b[0;32mexcept\u001b[0m \u001b[0msocket\u001b[0m\u001b[0;34m.\u001b[0m\u001b[0merror\u001b[0m\u001b[0;34m,\u001b[0m \u001b[0me\u001b[0m\u001b[0;34m:\u001b[0m\u001b[0;34m\u001b[0m\u001b[0m\n\u001b[1;32m   1266\u001b[0m                 \u001b[0;32mif\u001b[0m \u001b[0mi\u001b[0m \u001b[0;32mor\u001b[0m \u001b[0me\u001b[0m\u001b[0;34m.\u001b[0m\u001b[0merrno\u001b[0m \u001b[0;32mnot\u001b[0m \u001b[0;32min\u001b[0m \u001b[0;34m(\u001b[0m\u001b[0merrno\u001b[0m\u001b[0;34m.\u001b[0m\u001b[0mECONNRESET\u001b[0m\u001b[0;34m,\u001b[0m \u001b[0merrno\u001b[0m\u001b[0;34m.\u001b[0m\u001b[0mECONNABORTED\u001b[0m\u001b[0;34m,\u001b[0m \u001b[0merrno\u001b[0m\u001b[0;34m.\u001b[0m\u001b[0mEPIPE\u001b[0m\u001b[0;34m)\u001b[0m\u001b[0;34m:\u001b[0m\u001b[0;34m\u001b[0m\u001b[0m\n",
        "\u001b[0;32m/usr/local/Cellar/python/2.7.5/Frameworks/Python.framework/Versions/2.7/lib/python2.7/xmlrpclib.pyc\u001b[0m in \u001b[0;36msingle_request\u001b[0;34m(self, host, handler, request_body, verbose)\u001b[0m\n\u001b[1;32m   1292\u001b[0m             \u001b[0mself\u001b[0m\u001b[0;34m.\u001b[0m\u001b[0msend_content\u001b[0m\u001b[0;34m(\u001b[0m\u001b[0mh\u001b[0m\u001b[0;34m,\u001b[0m \u001b[0mrequest_body\u001b[0m\u001b[0;34m)\u001b[0m\u001b[0;34m\u001b[0m\u001b[0m\n\u001b[1;32m   1293\u001b[0m \u001b[0;34m\u001b[0m\u001b[0m\n\u001b[0;32m-> 1294\u001b[0;31m             \u001b[0mresponse\u001b[0m \u001b[0;34m=\u001b[0m \u001b[0mh\u001b[0m\u001b[0;34m.\u001b[0m\u001b[0mgetresponse\u001b[0m\u001b[0;34m(\u001b[0m\u001b[0mbuffering\u001b[0m\u001b[0;34m=\u001b[0m\u001b[0mTrue\u001b[0m\u001b[0;34m)\u001b[0m\u001b[0;34m\u001b[0m\u001b[0m\n\u001b[0m\u001b[1;32m   1295\u001b[0m             \u001b[0;32mif\u001b[0m \u001b[0mresponse\u001b[0m\u001b[0;34m.\u001b[0m\u001b[0mstatus\u001b[0m \u001b[0;34m==\u001b[0m \u001b[0;36m200\u001b[0m\u001b[0;34m:\u001b[0m\u001b[0;34m\u001b[0m\u001b[0m\n\u001b[1;32m   1296\u001b[0m                 \u001b[0mself\u001b[0m\u001b[0;34m.\u001b[0m\u001b[0mverbose\u001b[0m \u001b[0;34m=\u001b[0m \u001b[0mverbose\u001b[0m\u001b[0;34m\u001b[0m\u001b[0m\n",
        "\u001b[0;32m/usr/local/Cellar/python/2.7.5/Frameworks/Python.framework/Versions/2.7/lib/python2.7/httplib.pyc\u001b[0m in \u001b[0;36mgetresponse\u001b[0;34m(self, buffering)\u001b[0m\n\u001b[1;32m   1043\u001b[0m         \u001b[0mresponse\u001b[0m \u001b[0;34m=\u001b[0m \u001b[0mself\u001b[0m\u001b[0;34m.\u001b[0m\u001b[0mresponse_class\u001b[0m\u001b[0;34m(\u001b[0m\u001b[0;34m*\u001b[0m\u001b[0margs\u001b[0m\u001b[0;34m,\u001b[0m \u001b[0;34m**\u001b[0m\u001b[0mkwds\u001b[0m\u001b[0;34m)\u001b[0m\u001b[0;34m\u001b[0m\u001b[0m\n\u001b[1;32m   1044\u001b[0m \u001b[0;34m\u001b[0m\u001b[0m\n\u001b[0;32m-> 1045\u001b[0;31m         \u001b[0mresponse\u001b[0m\u001b[0;34m.\u001b[0m\u001b[0mbegin\u001b[0m\u001b[0;34m(\u001b[0m\u001b[0;34m)\u001b[0m\u001b[0;34m\u001b[0m\u001b[0m\n\u001b[0m\u001b[1;32m   1046\u001b[0m         \u001b[0;32massert\u001b[0m \u001b[0mresponse\u001b[0m\u001b[0;34m.\u001b[0m\u001b[0mwill_close\u001b[0m \u001b[0;34m!=\u001b[0m \u001b[0m_UNKNOWN\u001b[0m\u001b[0;34m\u001b[0m\u001b[0m\n\u001b[1;32m   1047\u001b[0m         \u001b[0mself\u001b[0m\u001b[0;34m.\u001b[0m\u001b[0m__state\u001b[0m \u001b[0;34m=\u001b[0m \u001b[0m_CS_IDLE\u001b[0m\u001b[0;34m\u001b[0m\u001b[0m\n",
        "\u001b[0;32m/usr/local/Cellar/python/2.7.5/Frameworks/Python.framework/Versions/2.7/lib/python2.7/httplib.pyc\u001b[0m in \u001b[0;36mbegin\u001b[0;34m(self)\u001b[0m\n\u001b[1;32m    407\u001b[0m         \u001b[0;31m# read until we get a non-100 response\u001b[0m\u001b[0;34m\u001b[0m\u001b[0;34m\u001b[0m\u001b[0m\n\u001b[1;32m    408\u001b[0m         \u001b[0;32mwhile\u001b[0m \u001b[0mTrue\u001b[0m\u001b[0;34m:\u001b[0m\u001b[0;34m\u001b[0m\u001b[0m\n\u001b[0;32m--> 409\u001b[0;31m             \u001b[0mversion\u001b[0m\u001b[0;34m,\u001b[0m \u001b[0mstatus\u001b[0m\u001b[0;34m,\u001b[0m \u001b[0mreason\u001b[0m \u001b[0;34m=\u001b[0m \u001b[0mself\u001b[0m\u001b[0;34m.\u001b[0m\u001b[0m_read_status\u001b[0m\u001b[0;34m(\u001b[0m\u001b[0;34m)\u001b[0m\u001b[0;34m\u001b[0m\u001b[0m\n\u001b[0m\u001b[1;32m    410\u001b[0m             \u001b[0;32mif\u001b[0m \u001b[0mstatus\u001b[0m \u001b[0;34m!=\u001b[0m \u001b[0mCONTINUE\u001b[0m\u001b[0;34m:\u001b[0m\u001b[0;34m\u001b[0m\u001b[0m\n\u001b[1;32m    411\u001b[0m                 \u001b[0;32mbreak\u001b[0m\u001b[0;34m\u001b[0m\u001b[0m\n",
        "\u001b[0;32m/usr/local/Cellar/python/2.7.5/Frameworks/Python.framework/Versions/2.7/lib/python2.7/httplib.pyc\u001b[0m in \u001b[0;36m_read_status\u001b[0;34m(self)\u001b[0m\n\u001b[1;32m    363\u001b[0m     \u001b[0;32mdef\u001b[0m \u001b[0m_read_status\u001b[0m\u001b[0;34m(\u001b[0m\u001b[0mself\u001b[0m\u001b[0;34m)\u001b[0m\u001b[0;34m:\u001b[0m\u001b[0;34m\u001b[0m\u001b[0m\n\u001b[1;32m    364\u001b[0m         \u001b[0;31m# Initialize with Simple-Response defaults\u001b[0m\u001b[0;34m\u001b[0m\u001b[0;34m\u001b[0m\u001b[0m\n\u001b[0;32m--> 365\u001b[0;31m         \u001b[0mline\u001b[0m \u001b[0;34m=\u001b[0m \u001b[0mself\u001b[0m\u001b[0;34m.\u001b[0m\u001b[0mfp\u001b[0m\u001b[0;34m.\u001b[0m\u001b[0mreadline\u001b[0m\u001b[0;34m(\u001b[0m\u001b[0m_MAXLINE\u001b[0m \u001b[0;34m+\u001b[0m \u001b[0;36m1\u001b[0m\u001b[0;34m)\u001b[0m\u001b[0;34m\u001b[0m\u001b[0m\n\u001b[0m\u001b[1;32m    366\u001b[0m         \u001b[0;32mif\u001b[0m \u001b[0mlen\u001b[0m\u001b[0;34m(\u001b[0m\u001b[0mline\u001b[0m\u001b[0;34m)\u001b[0m \u001b[0;34m>\u001b[0m \u001b[0m_MAXLINE\u001b[0m\u001b[0;34m:\u001b[0m\u001b[0;34m\u001b[0m\u001b[0m\n\u001b[1;32m    367\u001b[0m             \u001b[0;32mraise\u001b[0m \u001b[0mLineTooLong\u001b[0m\u001b[0;34m(\u001b[0m\u001b[0;34m\"header line\"\u001b[0m\u001b[0;34m)\u001b[0m\u001b[0;34m\u001b[0m\u001b[0m\n",
        "\u001b[0;32m/usr/local/Cellar/python/2.7.5/Frameworks/Python.framework/Versions/2.7/lib/python2.7/socket.pyc\u001b[0m in \u001b[0;36mreadline\u001b[0;34m(self, size)\u001b[0m\n\u001b[1;32m    474\u001b[0m             \u001b[0;32mwhile\u001b[0m \u001b[0mTrue\u001b[0m\u001b[0;34m:\u001b[0m\u001b[0;34m\u001b[0m\u001b[0m\n\u001b[1;32m    475\u001b[0m                 \u001b[0;32mtry\u001b[0m\u001b[0;34m:\u001b[0m\u001b[0;34m\u001b[0m\u001b[0m\n\u001b[0;32m--> 476\u001b[0;31m                     \u001b[0mdata\u001b[0m \u001b[0;34m=\u001b[0m \u001b[0mself\u001b[0m\u001b[0;34m.\u001b[0m\u001b[0m_sock\u001b[0m\u001b[0;34m.\u001b[0m\u001b[0mrecv\u001b[0m\u001b[0;34m(\u001b[0m\u001b[0mself\u001b[0m\u001b[0;34m.\u001b[0m\u001b[0m_rbufsize\u001b[0m\u001b[0;34m)\u001b[0m\u001b[0;34m\u001b[0m\u001b[0m\n\u001b[0m\u001b[1;32m    477\u001b[0m                 \u001b[0;32mexcept\u001b[0m \u001b[0merror\u001b[0m\u001b[0;34m,\u001b[0m \u001b[0me\u001b[0m\u001b[0;34m:\u001b[0m\u001b[0;34m\u001b[0m\u001b[0m\n\u001b[1;32m    478\u001b[0m                     \u001b[0;32mif\u001b[0m \u001b[0me\u001b[0m\u001b[0;34m.\u001b[0m\u001b[0margs\u001b[0m\u001b[0;34m[\u001b[0m\u001b[0;36m0\u001b[0m\u001b[0;34m]\u001b[0m \u001b[0;34m==\u001b[0m \u001b[0mEINTR\u001b[0m\u001b[0;34m:\u001b[0m\u001b[0;34m\u001b[0m\u001b[0m\n",
        "\u001b[0;31mKeyboardInterrupt\u001b[0m: "
       ]
      },
      {
       "output_type": "stream",
       "stream": "stdout",
       "text": [
        " rows analyzed\n"
       ]
      }
     ],
     "prompt_number": 698
    },
    {
     "cell_type": "markdown",
     "metadata": {},
     "source": [
      "Now, `graph_data` is a dict of {speaker : mentions}, where `mentions`\n",
      "is a dict of {mention: attribute_dict}."
     ]
    },
    {
     "cell_type": "markdown",
     "metadata": {},
     "source": [
      "### Dominant categories\n",
      "Each edge has a score from one of `relevant_categories`.\n",
      "\n",
      "##### Let's add an overlay for mentions that are validated by the naming graph"
     ]
    },
    {
     "cell_type": "code",
     "collapsed": false,
     "input": [
      "d = pickle.load(open('testimony/text/annual-reports/pickles/intersection_53_52.p', 'rb'))\n",
      "\n",
      "disambig_d = {}\n",
      "\n",
      "for pair in d:\n",
      "    snitch = pair['name']\n",
      "    accused = pair['named']\n",
      "    snitch = get_key(snitch, disambiguated_names)\n",
      "    accused = [get_key(a, disambiguated_names) for a in accused]\n",
      "    accused = [a for a in accused if a]\n",
      "    if any(accused) and snitch:\n",
      "        disambig_d[snitch] = accused"
     ],
     "language": "python",
     "metadata": {},
     "outputs": []
    },
    {
     "cell_type": "code",
     "collapsed": false,
     "input": [
      "len(disambig_d)"
     ],
     "language": "python",
     "metadata": {},
     "outputs": [
      {
       "output_type": "pyout",
       "prompt_number": 641,
       "text": [
        "28"
       ]
      }
     ],
     "prompt_number": 641
    },
    {
     "cell_type": "code",
     "collapsed": false,
     "input": [
      "relevant_categories = ['Negemo', 'Posemo', 'Posfeel', 'Anx', 'Certain', 'Tentat', 'Anger', 'Swear']"
     ],
     "language": "python",
     "metadata": {},
     "outputs": [],
     "prompt_number": 211
    },
    {
     "cell_type": "markdown",
     "metadata": {},
     "source": [
      "disambig_d is NOT the naming intersection. it's just the intersection of who was accused."
     ]
    },
    {
     "cell_type": "code",
     "collapsed": false,
     "input": [
      "G_dominant_scores = nx.DiGraph()\n",
      "\n",
      "for speaker, mentions in graph_data.items():\n",
      "    for mentioned, attrs in mentions.items():\n",
      "        count = count_data[(speaker, mentioned)]\n",
      "        normalized_attrs = normalize_dict(attrs, count)\n",
      "        filtered = filter_categories(normalized_attrs, relevant_categories)\n",
      "        filtered = filter_out_categories(normalized_attrs, irrelevant_categories)\n",
      "        attrs = {}\n",
      "\n",
      "        try:\n",
      "            dominant = max(filtered.items(), key=lambda p: p[1])\n",
      "            attrs = {dominant[0] : dominant[1]}\n",
      "        except ValueError:\n",
      "            continue # continue will make a graph that is only sent. edges.\n",
      "            \n",
      "\n",
      "        named=False\n",
      "        if speaker in disambig_d.keys() and mentioned in disambig_d[speaker]:\n",
      "            named=True\n",
      "        attrs['named'] = named\n",
      "\n",
      "        G_dominant_scores.add_edge(speaker, mentioned, attrs)\n",
      "\n",
      "        \n",
      "nx.write_gml(G_dominant_scores, 'graphs/final/gml/liwc_dominant_categories_wo_sent_irrelevant_filtered_2.13.gml')"
     ],
     "language": "python",
     "metadata": {},
     "outputs": []
    },
    {
     "cell_type": "markdown",
     "metadata": {},
     "source": [
      "#### Only anaphora mentions\n",
      "Run some statistics on mentions that are only via anaphora.\n",
      "\n",
      "I'd like to see the difference between non-anaphora mentions and\n",
      "anaphora mentions - not just in the graphs, but in the overall\n",
      "sentiment that is expressed by them as well."
     ]
    },
    {
     "cell_type": "markdown",
     "metadata": {},
     "source": [
      "##### Constructing the series"
     ]
    },
    {
     "cell_type": "code",
     "collapsed": false,
     "input": [
      "#mentions_only_anaphora = [[d.keys() for d in sentiment_list] for sentiment_list in df['liwc_sentiment_towards_only_anaphora']\n",
      "mentions_only_anaphora = []\n",
      "\n",
      "def isempty(l):\n",
      "    try:\n",
      "        return all(map(empty, l))\n",
      "    except TypeError:\n",
      "        return False\n",
      "\n",
      "for n, row in df.iterrows():\n",
      "    mention_list = row['mention_list_by_sentence_with_anaphora']\n",
      "    sentiment = row['liwc_sentiment_towards_only_anaphora']\n",
      "    if pd.isnull(sentiment):\n",
      "       mentions_only_anaphora.append(np.nan)\n",
      "       continue\n",
      "    only_anaphora_names = sentiment[0].keys()\n",
      "    new_list = []\n",
      "    for mentions in mention_list:\n",
      "        sub_list = []\n",
      "        for n, mention in enumerate(mentions):\n",
      "            if mention in only_anaphora_names:\n",
      "               sub_list.append(mention)\n",
      "        new_list.append(list(set(sub_list)))\n",
      "    \n",
      "    #if not any(new_list):\n",
      "    if isempty(new_list):\n",
      "       mentions_only_anaphora.append(np.nan)\n",
      "       continue \n",
      "    mentions_only_anaphora.append(new_list)\n",
      "#print len(filter(lambda s: type(s) == list, mentions_only_anaphora)), \"speechacts with anaphora mentions\"\n",
      "df['mention_list_by_sentence_only_anaphora'] = mentions_only_anaphora\n",
      "df.to_pickle('pickles/final/final_analysis_correct_only_anaphora.p')"
     ],
     "language": "python",
     "metadata": {},
     "outputs": [],
     "prompt_number": 272
    },
    {
     "cell_type": "code",
     "collapsed": false,
     "input": [
      "print df['liwc_sentiment_towards_only_anaphora'].dropna()[:20]\n",
      "print len(df['mention_list_by_sentence_only_anaphora'].dropna())"
     ],
     "language": "python",
     "metadata": {},
     "outputs": [
      {
       "output_type": "stream",
       "stream": "stdout",
       "text": [
        "682                                             ({}, {})\n",
        "684                                             ({}, {})\n",
        "686                              ({}, {u'Burrows': 0.0})\n",
        "688                                             ({}, {})\n",
        "690                                             ({}, {})\n",
        "692                                             ({}, {})\n",
        "694                                             ({}, {})\n",
        "700                              ({}, {u'Burrows': 0.0})\n",
        "702                                             ({}, {})\n",
        "704                                ({}, {u'Duffy': 0.1})\n",
        "706                                             ({}, {})\n",
        "710                                             ({}, {})\n",
        "713                  ({}, {u'Tavenner': 0.032619047619})\n",
        "715                          ({u'Owen Vinson': 0.0}, {})\n",
        "719       ({}, {u'Burrows': 0.0, u'Samuel Sillen': 0.0})\n",
        "723    ({u'Bruce Minton': 0.1125, u'John Stewart': 0....\n",
        "725     ({u'Bruce Minton': 0.0}, {u'Bruce Minton': 0.0})\n",
        "733    ({u'Henry Blankfort': 0.0}, {u'Henry Blankfort...\n",
        "739                  ({}, {u'Burrows': 0.0333333333333})\n",
        "744                                             ({}, {})\n",
        "Name: liwc_sentiment_towards_only_anaphora, dtype: object\n",
        "304\n"
       ]
      }
     ],
     "prompt_number": 115
    },
    {
     "cell_type": "code",
     "collapsed": false,
     "input": [
      "df = pd.read_pickle('pickles/final/final_analysis.p')"
     ],
     "language": "python",
     "metadata": {},
     "outputs": [],
     "prompt_number": 113
    },
    {
     "cell_type": "markdown",
     "metadata": {},
     "source": [
      "#### Constructing dominant liwc sentiment graph from only anaphora mentions"
     ]
    },
    {
     "cell_type": "markdown",
     "metadata": {},
     "source": [
      "##### LIWC categories for only anaphora"
     ]
    },
    {
     "cell_type": "markdown",
     "metadata": {},
     "source": [
      "###### non-normalized anaphora\n"
     ]
    },
    {
     "cell_type": "code",
     "collapsed": false,
     "input": [
      "import simplejson\n",
      "import jsonrpclib\n",
      "import corenlp_utils\n",
      "import sentiment_utils\n",
      "import lexicons.lexiconUtils as sentimentUtils\n",
      "from collections import defaultdict\n",
      "\n",
      "liwc = sentimentUtils.LiwcDict()\n",
      "\n",
      "\n",
      "\n",
      "\n",
      "# mention -> categories\n",
      "anaphora_non_normalized_data = collections.defaultdict(lambda : collections.defaultdict(dict))\n",
      "anaphora_count_data = collections.defaultdict(int)\n",
      "responses = df.dropna().groupby('is_response').get_group(True)\n",
      "server = jsonrpclib.Server(\"http://localhost:8080\")\n",
      "skipped = 0\n",
      "c = 0\n",
      "for n, row in responses.iterrows():\n",
      "    if c % 500 == 0:\n",
      "        print \"processed\", c, \"mentions.\"\n",
      "    speaker = row['speaker']\n",
      "    if is_interviewer(speaker):\n",
      "        skipped += 1\n",
      "        continue\n",
      "    anaphora_mentions = row['mention_list_by_sentence_only_anaphora']\n",
      "\n",
      "    obj = corenlp_utils.get_corenlp_object(row['speechact'], server)\n",
      "    if not obj:\n",
      "        continue\n",
      "    categories_by_sentence = liwc_categories_by_sentence_not_normalized(obj)\n",
      "    \n",
      "    speaker = get_key(speaker, disambiguated_names)\n",
      "    for n, mentions in enumerate(anaphora_mentions):\n",
      "        for mention in mentions:\n",
      "            mention = get_key(mention, disambiguated_names)\n",
      "            if speaker == mention or not mention:\n",
      "                skipped += 1\n",
      "                continue\n",
      "            categories_for_mention = filter_out_categories(categories_by_sentence[n], irrelevant_categories)\n",
      "            anaphora_non_normalized_data[speaker][mention] = update_dict(anaphora_non_normalized_data[speaker][mention], categories_for_mention)\n",
      "            anaphora_count_data[mention] += 1\n",
      "            c += 1\n",
      "print \"skipped\", skipped, \"anaphora\"\n",
      "print c, \"mentions.\", \"anaphora\"\n",
      "\n",
      "non_normalized_data "
     ],
     "language": "python",
     "metadata": {},
     "outputs": [
      {
       "output_type": "stream",
       "stream": "stdout",
       "text": [
        "processed 0 mentions.\n",
        "skipped"
       ]
      },
      {
       "output_type": "stream",
       "stream": "stdout",
       "text": [
        " 2\n",
        "512 mentions.\n"
       ]
      }
     ],
     "prompt_number": 688
    },
    {
     "cell_type": "code",
     "collapsed": false,
     "input": [
      "len(anaphora_non_normalized_data)"
     ],
     "language": "python",
     "metadata": {},
     "outputs": [
      {
       "output_type": "pyout",
       "prompt_number": 689,
       "text": [
        "34"
       ]
      }
     ],
     "prompt_number": 689
    },
    {
     "cell_type": "code",
     "collapsed": false,
     "input": [
      "responses = df.dropna().groupby('is_response').get_group(True)\n",
      "\n",
      "# speaker -> mention -> categories for that mention, aggregated & normalized over all speechacts.\n",
      "anaphora_graph_data = collections.defaultdict(lambda : collections.defaultdict(dict))\n",
      "# not filtered by particular categories\n",
      "anaphora_graph_data_not_filtered = collections.defaultdict(lambda : collections.defaultdict(dict))\n",
      "anaphora_count_data = collections.defaultdict(int)\n",
      "\n",
      "skipped = 0\n",
      "for n, row in responses.iterrows():\n",
      "    speaker = row['speaker']\n",
      "    if is_interviewer(speaker):\n",
      "        skipped += 1\n",
      "        continue\n",
      "\n",
      "        # there's anaphora\n",
      "    mention_list_w_anaphora = row['mention_list_by_sentence_only_anaphora']\n",
      "    categories_by_sentence = row['liwc_categories_by_sentence']\n",
      "\n",
      "    speaker = get_key(speaker, disambiguated_names)\n",
      "    for n, mentions in enumerate(mention_list_w_anaphora):\n",
      "        for mention in mentions:\n",
      "            \n",
      "            mention = get_key(mention, disambiguated_names)\n",
      "            if speaker == mention or not mention:\n",
      "                skipped += 1\n",
      "                continue\n",
      "\n",
      "            anaphora_graph_data_not_filtered[speaker][mention] = update_dict(anaphora_graph_data[speaker][mention], categories_by_sentence[n])\n",
      "\n",
      "            categories_for_mention = filter_out_categories(categories_by_sentence[n], irrelevant_categories)\n",
      "            anaphora_graph_data[speaker][mention] = update_dict(anaphora_graph_data[speaker][mention], categories_for_mention)\n",
      "            \n",
      "            anaphora_count_data[(speaker, mention)] += 1\n",
      "        \n",
      "print \"skipped\", skipped"
     ],
     "language": "python",
     "metadata": {},
     "outputs": [
      {
       "output_type": "stream",
       "stream": "stdout",
       "text": [
        "skipped 2\n"
       ]
      }
     ],
     "prompt_number": 677
    },
    {
     "cell_type": "code",
     "collapsed": false,
     "input": [
      "len(anaphora_graph_data)"
     ],
     "language": "python",
     "metadata": {},
     "outputs": [
      {
       "output_type": "pyout",
       "prompt_number": 678,
       "text": [
        "34"
       ]
      }
     ],
     "prompt_number": 678
    },
    {
     "cell_type": "markdown",
     "metadata": {},
     "source": [
      "##### Actually constructing the graph"
     ]
    },
    {
     "cell_type": "code",
     "collapsed": false,
     "input": [
      "G_only_anaphora_with_dominant_categories = nx.DiGraph()\n",
      "relevant_categories = ['Negemo', 'Posemo', 'Posfeel', 'Anx', 'Certain', 'Tentat', 'Anger', 'Swear']\n",
      "n = 0\n",
      "for speaker, mentions in anaphora_graph_data.items():\n",
      "    if n % 10 == 0:\n",
      "        print \"analyzing\", n, \"mentions.\"\n",
      "    for mentioned, attrs in mentions.items():\n",
      "        count = anaphora_count_data[(speaker, mentioned)]\n",
      "        normalized_attrs = normalize_dict(attrs, count)\n",
      "        filtered = filter_categories(normalized_attrs, relevant_categories)\n",
      "        n += 1\n",
      "        try:\n",
      "            dominant = max(filtered.items(), key=lambda p:p[1])\n",
      "            dominant = {dominant[0] : dominant[1]}\n",
      "            G_only_anaphora_with_dominant_categories.add_edge(speaker, mentioned, dominant)\n",
      "        except ValueError:\n",
      "            G_only_anaphora_with_dominant_categories.add_edge(speaker, mentioned)\n",
      "    \n",
      "nx.write_gml(G_only_anaphora_with_dominant_categories, 'graphs/liwc_only_anaphora_dominant_scores_1.gml')"
     ],
     "language": "python",
     "metadata": {},
     "outputs": [
      {
       "output_type": "stream",
       "stream": "stdout",
       "text": [
        "analyzing 0 mentions.\n",
        "analyzing 200 mentions.\n",
        "analyzing 210 mentions.\n",
        "analyzing 270 mentions.\n",
        "analyzing 310 mentions.\n"
       ]
      }
     ],
     "prompt_number": 274
    },
    {
     "cell_type": "markdown",
     "metadata": {},
     "source": [
      "#### What does the distribution of sentiment look like for anaphora-only mentions, not normalized?"
     ]
    },
    {
     "cell_type": "markdown",
     "metadata": {},
     "source": [
      "#### What does the distribution of sentiment look like for anaphora-only mentions?"
     ]
    },
    {
     "cell_type": "code",
     "collapsed": false,
     "input": [
      "#G_only_anaphora_with_dominant_categories = nx.DiGraph()\n",
      "\n",
      "categories = []\n",
      "scores = []\n",
      "count = []\n",
      "\n",
      "#relevant_categories = ['Negemo', 'Posemo', 'Posfeel', 'Anx', 'Certain', 'Tentat', 'Anger', 'Swear']\n",
      "n = 0\n",
      "for speaker, mentions in anaphora_graph_data_not_filtered.items():\n",
      "    for mentioned, attrs in mentions.items():\n",
      "        for category, score in attrs.items():\n",
      "            if category not in categories: \n",
      "                categories.append(category)\n",
      "                count.append(1)\n",
      "                scores.append(score)\n",
      "            else:\n",
      "                catindex = categories.index(category)\n",
      "                count[catindex] += 1\n",
      "                scores[catindex] += score\n",
      "    \n",
      "normalize\n",
      "for n, count in enumerate(count):\n",
      "    scores[n] = scores[n]/count\n",
      "    \n",
      "only_anaphora_categories_df = pd.DataFrame({\"categories\": categories,\n",
      "                                            \"scores\": scores})\n",
      "\n",
      "s = pd.Series(list(only_anaphora_categories_df['scores']), index=only_anaphora_categories_df['categories'])"
     ],
     "language": "python",
     "metadata": {},
     "outputs": [],
     "prompt_number": 275
    },
    {
     "cell_type": "code",
     "collapsed": false,
     "input": [
      "print s.describe()\n",
      "s.plot(kind=\"bar\", title=\"normalized categories expressed towards anaphora\")\n"
     ],
     "language": "python",
     "metadata": {},
     "outputs": [
      {
       "output_type": "stream",
       "stream": "stdout",
       "text": [
        "count    61.000000\n",
        "mean      0.138791\n",
        "std       0.066906\n",
        "min       0.040000\n",
        "25%       0.094152\n",
        "50%       0.138013\n",
        "75%       0.165688\n",
        "max       0.407994\n",
        "dtype: float64\n"
       ]
      },
      {
       "output_type": "pyout",
       "prompt_number": 276,
       "text": [
        "<matplotlib.axes.AxesSubplot at 0x1108a5b10>"
       ]
      },
      {
       "output_type": "display_data",
       "png": "[encoded data removed]",
       "text": [
        "<matplotlib.figure.Figure at 0x1108e9b90>"
       ]
      }
     ],
     "prompt_number": 276
    },
    {
     "cell_type": "code",
     "collapsed": false,
     "input": [
      "def top_n(s, n):\n",
      "    return s.order(ascending=False)[:n]\n",
      "top_n(s, 10)\n"
     ],
     "language": "python",
     "metadata": {},
     "outputs": [
      {
       "output_type": "pyout",
       "prompt_number": 277,
       "text": [
        "categories\n",
        "Social        0.407994\n",
        "Down          0.333333\n",
        "Other         0.283686\n",
        "Future        0.263235\n",
        "Incl          0.230112\n",
        "Money         0.212943\n",
        "Music         0.205159\n",
        "Comm          0.200980\n",
        "Present       0.188700\n",
        "School        0.179375\n",
        "dtype: float64"
       ]
      }
     ],
     "prompt_number": 277
    },
    {
     "cell_type": "markdown",
     "metadata": {},
     "source": [
      "#### What about for regular(non-anaphora) mentions?"
     ]
    },
    {
     "cell_type": "code",
     "collapsed": false,
     "input": [
      "\n",
      "categories = []\n",
      "scores = []\n",
      "count = []\n",
      "\n",
      "\n",
      "tmp_df = df.groupby('is_interviewee').get_group(True).groupby('is_response').get_group(False)\n",
      "\n",
      "#relevant_categories = ['Negemo', 'Posemo', 'Posfeel', 'Anx', 'Certain', 'Tentat', 'Anger', 'Swear']\n",
      "\n",
      "for n, row in tmp_df.iterrows():\n",
      "    if pd.isnull(row['liwc_categories_for_speechact']):\n",
      "         continue\n",
      "    for category, score in row['liwc_categories_for_speechact'].items():\n",
      "        if category not in categories:\n",
      "            categories.append(category)\n",
      "            count.append(1)\n",
      "            scores.append(score)\n",
      "        else:\n",
      "            catindex = categories.index(category)\n",
      "            count[catindex] += 1\n",
      "            scores[catindex] += score\n",
      "    \n",
      "normalize\n",
      "for n, count in enumerate(count):\n",
      "    scores[n] = scores[n]/count\n",
      "\n",
      "    \n",
      "non_anaphora_categories_df = pd.DataFrame({\"categories\": categories,\n",
      "                                           \"scores\": scores})\n",
      "\n",
      "nons = pd.Series(list(non_anaphora_categories_df['scores']), index=non_anaphora_categories_df['categories'])"
     ],
     "language": "python",
     "metadata": {},
     "outputs": [],
     "prompt_number": 278
    },
    {
     "cell_type": "code",
     "collapsed": false,
     "input": [
      "len(nons)"
     ],
     "language": "python",
     "metadata": {},
     "outputs": [
      {
       "output_type": "pyout",
       "prompt_number": 223,
       "text": [
        "68"
       ]
      }
     ],
     "prompt_number": 223
    },
    {
     "cell_type": "code",
     "collapsed": false,
     "input": [
      "nons.plot(kind=\"bar\", title=\"normalized categories expressed toward non-anaphora\")"
     ],
     "language": "python",
     "metadata": {},
     "outputs": []
    },
    {
     "cell_type": "code",
     "collapsed": false,
     "input": [
      "categories = list(nons.index)\n",
      "only_anaphora_score = []\n",
      "non_anaphora_score = []\n",
      "for category in categories:\n",
      "    if category in nons.index and category in s.index:\n",
      "        non_anaphora_score.append(nons[category])\n",
      "        only_anaphora_score.append(s[category])\n",
      "    else:\n",
      "        print category, \"not in only_anaphora_score.\"\n",
      "        non_anaphora_score.append(np.nan)\n",
      "        only_anaphora_score.append(np.nan)"
     ],
     "language": "python",
     "metadata": {},
     "outputs": [
      {
       "output_type": "stream",
       "stream": "stdout",
       "text": [
        "Nonfl not in only_anaphora_score.\n",
        "FillersSpaced not in only_anaphora_score.\n",
        "Fillers not in only_anaphora_score.\n",
        "Metaph not in only_anaphora_score.\n",
        "Death not in only_anaphora_score.\n",
        "Relig not in only_anaphora_score.\n",
        "Groom not in only_anaphora_score.\n",
        "Sleep not in only_anaphora_score.\n"
       ]
      }
     ],
     "prompt_number": 279
    },
    {
     "cell_type": "code",
     "collapsed": false,
     "input": [
      "len(cats)"
     ],
     "language": "python",
     "metadata": {},
     "outputs": [
      {
       "output_type": "pyout",
       "prompt_number": 226,
       "text": [
        "60"
       ]
      }
     ],
     "prompt_number": 226
    },
    {
     "cell_type": "code",
     "collapsed": false,
     "input": [
      "print len(only_anaphora_score)\n",
      "print len(non_anaphora_score)"
     ],
     "language": "python",
     "metadata": {},
     "outputs": [
      {
       "output_type": "stream",
       "stream": "stdout",
       "text": [
        "68\n",
        "68\n"
       ]
      }
     ],
     "prompt_number": 280
    },
    {
     "cell_type": "code",
     "collapsed": false,
     "input": [
      "both_df = pd.DataFrame({\"only anaphora\": only_anaphora_score, \"non anaphora\": non_anaphora_score}, index=categories)\n",
      "both_df.drop(irrelevant_categories)\n",
      "both_df.plot(kind='bar')"
     ],
     "language": "python",
     "metadata": {},
     "outputs": [
      {
       "output_type": "pyout",
       "prompt_number": 387,
       "text": [
        "<matplotlib.axes.AxesSubplot at 0x112e34e10>"
       ]
      },
      {
       "output_type": "display_data",
       "png": "[encoded data removed]",
       "text": [
        "<matplotlib.figure.Figure at 0x112e38cd0>"
       ]
      }
     ],
     "prompt_number": 387
    },
    {
     "cell_type": "code",
     "collapsed": false,
     "input": [
      "pylab.savefig('foo.png')"
     ],
     "language": "python",
     "metadata": {},
     "outputs": [
      {
       "output_type": "display_data",
       "text": [
        "<matplotlib.figure.Figure at 0x1104462d0>"
       ]
      }
     ],
     "prompt_number": 253
    },
    {
     "cell_type": "code",
     "collapsed": false,
     "input": [
      "both_df.describe()"
     ],
     "language": "python",
     "metadata": {},
     "outputs": [
      {
       "html": [
        "<div style=\"max-height:1000px;max-width:1500px;overflow:auto;\">\n",
        "<table border=\"1\" class=\"dataframe\">\n",
        "  <thead>\n",
        "    <tr style=\"text-align: right;\">\n",
        "      <th></th>\n",
        "      <th>non anaphora</th>\n",
        "      <th>only anaphora</th>\n",
        "    </tr>\n",
        "  </thead>\n",
        "  <tbody>\n",
        "    <tr>\n",
        "      <th>count</th>\n",
        "      <td> 60.000000</td>\n",
        "      <td> 60.000000</td>\n",
        "    </tr>\n",
        "    <tr>\n",
        "      <th>mean</th>\n",
        "      <td>  0.049558</td>\n",
        "      <td>  0.139350</td>\n",
        "    </tr>\n",
        "    <tr>\n",
        "      <th>std</th>\n",
        "      <td>  0.022050</td>\n",
        "      <td>  0.067327</td>\n",
        "    </tr>\n",
        "    <tr>\n",
        "      <th>min</th>\n",
        "      <td>  0.016187</td>\n",
        "      <td>  0.040000</td>\n",
        "    </tr>\n",
        "    <tr>\n",
        "      <th>25%</th>\n",
        "      <td>  0.036896</td>\n",
        "      <td>  0.093341</td>\n",
        "    </tr>\n",
        "    <tr>\n",
        "      <th>50%</th>\n",
        "      <td>  0.043866</td>\n",
        "      <td>  0.138822</td>\n",
        "    </tr>\n",
        "    <tr>\n",
        "      <th>75%</th>\n",
        "      <td>  0.059073</td>\n",
        "      <td>  0.166075</td>\n",
        "    </tr>\n",
        "    <tr>\n",
        "      <th>max</th>\n",
        "      <td>  0.113111</td>\n",
        "      <td>  0.407994</td>\n",
        "    </tr>\n",
        "  </tbody>\n",
        "</table>\n",
        "</div>"
       ],
       "output_type": "pyout",
       "prompt_number": 282,
       "text": [
        "       non anaphora  only anaphora\n",
        "count     60.000000      60.000000\n",
        "mean       0.049558       0.139350\n",
        "std        0.022050       0.067327\n",
        "min        0.016187       0.040000\n",
        "25%        0.036896       0.093341\n",
        "50%        0.043866       0.138822\n",
        "75%        0.059073       0.166075\n",
        "max        0.113111       0.407994"
       ]
      }
     ],
     "prompt_number": 282
    },
    {
     "cell_type": "code",
     "collapsed": false,
     "input": [
      "d = pickle.load(open('testimony/text/annual-reports/pickles/intersection_53_52.p', 'rb'))"
     ],
     "language": "python",
     "metadata": {},
     "outputs": [],
     "prompt_number": 195
    },
    {
     "cell_type": "code",
     "collapsed": false,
     "input": [
      "disambig_d = {}\n",
      "\n",
      "for pair in d:\n",
      "    snitch = pair['name']\n",
      "    accused = pair['named']\n",
      "    snitch = get_key(snitch, disambiguated_names)\n",
      "    accused = [get_key(a, disambiguated_names) for a in accused]\n",
      "    accused = [a for a in accused if a]\n",
      "    if any(accused) and snitch:\n",
      "        disambig_d[snitch] = accused"
     ],
     "language": "python",
     "metadata": {},
     "outputs": [],
     "prompt_number": 203
    },
    {
     "cell_type": "markdown",
     "metadata": {},
     "source": [
      "#### Top 10% mentioned\n"
     ]
    },
    {
     "cell_type": "markdown",
     "metadata": {},
     "source": [
      "Prep the lists"
     ]
    },
    {
     "cell_type": "code",
     "collapsed": false,
     "input": [
      "speakers = df['speaker']\n",
      "mentions_no_anaphora = df['mention_list_for_speechact_without_anaphora'].dropna()\n",
      "mentions_no_anaphora = [item for sublist in mentions_no_anaphora for item in sublist] # flatten\n",
      "mentions_no_anaphora = [get_key(name, disambiguated_names) for name in mentions_no_anaphora]\n",
      "mentions_only_anaphora = df['mention_list_by_sentence_only_anaphora'].dropna()\n",
      "mentions_only_anaphora = [item for sublist in mentions_only_anaphora for item in sublist] # flatten\n",
      "mentions_only_anaphora = [item for sublist in mentions_only_anaphora for item in sublist] # flatten    \n",
      "mentions_only_anaphora = [get_key(name, disambiguated_names) for name in mentions_only_anaphora]"
     ],
     "language": "python",
     "metadata": {},
     "outputs": [],
     "prompt_number": 474
    },
    {
     "cell_type": "markdown",
     "metadata": {},
     "source": [
      "Make the frequency dicts\n",
      "Anaphora first:"
     ]
    },
    {
     "cell_type": "code",
     "collapsed": false,
     "input": [
      "anaphora_name_set = set([mention for mention in mentions_only_anaphora if not any(map(is_interviewer, disambiguated_names[mention]))])\n",
      "#is_interviewer(mention)])\n",
      "# create your frequency dictionary\n",
      "only_anaphora_freq = {}\n",
      "# iterate through them, once per unique word.\n",
      "for name in anaphora_name_set:\n",
      "    only_anaphora_freq[name] = mentions_only_anaphora.count(name) / float(len(mentions_only_anaphora))\n",
      "\n",
      "only_anaphora_mention_distribution = pd.Series(only_anaphora_freq.values(), index=only_anaphora_freq.keys())\n",
      "\n",
      "only_anaphora_mention_distribution.sort(ascending=False)\n",
      "anaphora_top_percentile_index = len(only_anaphora_mention_distribution)/10\n",
      "anaphora_top_percentile_mentions = only_anaphora_mention_distribution[:top_ten_index]"
     ],
     "language": "python",
     "metadata": {},
     "outputs": [],
     "prompt_number": 475
    },
    {
     "cell_type": "code",
     "collapsed": false,
     "input": [
      "only_anaphora_mention_distribution.head()"
     ],
     "language": "python",
     "metadata": {},
     "outputs": [
      {
       "output_type": "pyout",
       "prompt_number": 477,
       "text": [
        "395     0.009728\n",
        "72      0.009728\n",
        "960     0.007782\n",
        "1212    0.007782\n",
        "272     0.005837\n",
        "dtype: float64"
       ]
      }
     ],
     "prompt_number": 477
    },
    {
     "cell_type": "markdown",
     "metadata": {},
     "source": [
      "Non-anaphora:"
     ]
    },
    {
     "cell_type": "code",
     "collapsed": false,
     "input": [
      "non_anaphora_name_set = set([mention for mention in mentions_no_anaphora if not any(map(is_interviewer, disambiguated_names[mention]))])\n",
      "# create your frequency dictionary\n",
      "non_anaphora_freq = {}\n",
      "# iterate through them, once per unique word.\n",
      "for name in non_anaphora_name_set:\n",
      "    non_anaphora_freq[name] = mentions_no_anaphora.count(name) / float(len(mentions_no_anaphora))\n",
      "\n",
      "non_anaphora_mention_distribution = pd.Series(non_anaphora_freq.values(), index=non_anaphora_freq.keys())\n",
      "\n",
      "non_anaphora_mention_distribution.sort(ascending=False)\n",
      "non_anaphora_top_percentile_index = len(non_anaphora_mention_distribution)/10\n",
      "non_anaphora_top_percentile_mentions = non_anaphora_mention_distribution[:top_ten_index]"
     ],
     "language": "python",
     "metadata": {},
     "outputs": [],
     "prompt_number": 476
    },
    {
     "cell_type": "code",
     "collapsed": false,
     "input": [
      "non_anaphora_mention_distribution.head()"
     ],
     "language": "python",
     "metadata": {},
     "outputs": [
      {
       "output_type": "pyout",
       "prompt_number": 478,
       "text": [
        "56     0.006549\n",
        "52     0.005793\n",
        "911    0.004534\n",
        "524    0.003778\n",
        "275    0.003526\n",
        "dtype: float64"
       ]
      }
     ],
     "prompt_number": 478
    },
    {
     "cell_type": "markdown",
     "metadata": {},
     "source": [
      "Both"
     ]
    },
    {
     "cell_type": "code",
     "collapsed": false,
     "input": [
      "total_mentions = mentions_no_anaphora + mentions_only_anaphora\n",
      "total_mentions_set = set([mention for mention in total_mentions if not any(map(is_interviewer, disambiguated_names[mention]))])\n",
      "\n",
      "total_mentions_freq = {}\n",
      "for name in total_mentions_set:\n",
      "    total_mentions_freq[name] = total_mentions.count(name) / float(len(total_mentions))\n",
      "    \n",
      "total_mentions_distribution = pd.Series(total_mentions_freq.values(), index=total_mentions_freq.keys())\n",
      "\n",
      "total_mentions_distribution.sort(ascending=False)\n",
      "total_mentions_top_percentile_index = len(total_mentions_distribution)/10\n",
      "total_mentions_top_percentile_mentions = total_mentions_distribution[:top_ten_index]"
     ],
     "language": "python",
     "metadata": {},
     "outputs": [],
     "prompt_number": 594
    },
    {
     "cell_type": "markdown",
     "metadata": {},
     "source": [
      "Okay, now let's find the sentiment expressed towards those top-percentile mentions\n",
      "\n",
      "With anaphora, without anaphora, and combined."
     ]
    },
    {
     "cell_type": "markdown",
     "metadata": {},
     "source": [
      "### dict of mention -> avg normalized liwc category scores towards that mention"
     ]
    },
    {
     "cell_type": "markdown",
     "metadata": {},
     "source": [
      "#### Setup some helper functions"
     ]
    },
    {
     "cell_type": "code",
     "collapsed": false,
     "input": [
      "def compute_non_normalized_scores(graph_data, accused=[], scores=[]):\n",
      "    for speaker, mentions in graph_data.items():\n",
      "        for mentioned, attrs in mentions.items():\n",
      "            attrs = {k : v for k, v in attrs.items() if k not in irrelevant_categories}\n",
      "            if mentioned in accused:\n",
      "                index = accused.index(mentioned)\n",
      "                scores[index].append(attrs)\n",
      "            else:\n",
      "                accused.append(mentioned)\n",
      "                scores.append([attrs])\n",
      "    return (accused, scores)\n",
      "\n",
      "def combine_dicts(ds):\n",
      "    newdict = collections.defaultdict(list)\n",
      "    for d in ds:\n",
      "        for key, val in d.items():\n",
      "            if key in irrelevant_categories or key == 'named':\n",
      "                continue\n",
      "            else:\n",
      "                newdict[key].append(val)\n",
      "    for k, v in newdict.items():\n",
      "        newdict[k] = sum(v)/len(v)\n",
      "    return newdict\n",
      "\n",
      "def create_normalized_categories(accused, scores):\n",
      "    for n, l in enumerate(scores):\n",
      "        combined = combine_dicts(l)\n",
      "        scores[n] = combined\n",
      "    scores = pd.Series(scores, index=accused)\n",
      "    return scores"
     ],
     "language": "python",
     "metadata": {},
     "outputs": [],
     "prompt_number": 620
    },
    {
     "cell_type": "markdown",
     "metadata": {},
     "source": [
      "#### get data for all mentions"
     ]
    },
    {
     "cell_type": "code",
     "collapsed": false,
     "input": [
      "nn_accused, nn_scores = compute_non_normalized_scores(anaphora_non_normalized_data, [], [])\n",
      "nn_score_df = create_normalized_categories(nn_accused, nn_scores)"
     ],
     "language": "python",
     "metadata": {},
     "outputs": [],
     "prompt_number": 690
    },
    {
     "cell_type": "code",
     "collapsed": false,
     "input": [
      "len(nn_score_df)"
     ],
     "language": "python",
     "metadata": {},
     "outputs": [
      {
       "output_type": "pyout",
       "prompt_number": 691,
       "text": [
        "277"
       ]
      }
     ],
     "prompt_number": 691
    },
    {
     "cell_type": "code",
     "collapsed": false,
     "input": [
      "categories = collections.defaultdict(int)"
     ],
     "language": "python",
     "metadata": {},
     "outputs": []
    },
    {
     "cell_type": "code",
     "collapsed": false,
     "input": [
      "accused, scores = compute_non_normalized_scores(anaphora_graph_data_not_filtered, [], [])\n",
      "accused, scores = compute_non_normalized_scores(graph_data, accused, scores)\n",
      "\n",
      "all_score_df = create_normalized_categories(accused, scores)\n",
      "all_score_df.head()"
     ],
     "language": "python",
     "metadata": {},
     "outputs": [
      {
       "output_type": "pyout",
       "prompt_number": 621,
       "text": [
        "416                    {u'Incl': 0.1, u'Social': 0.3875}\n",
        "836         {u'Excl': 0.2, u'Incl': 0.2, u'Social': 0.6}\n",
        "453    {u'Tentat': 0.105263157895, u'I': 0.0526315789...\n",
        "454    {u'Incl': 0.0113636363636, u'Social': 0.222222...\n",
        "263    {u'Social': 0.388298545225, u'Excl': 0.2419354...\n",
        "dtype: object"
       ]
      }
     ],
     "prompt_number": 621
    },
    {
     "cell_type": "code",
     "collapsed": false,
     "input": [],
     "language": "python",
     "metadata": {},
     "outputs": []
    },
    {
     "cell_type": "markdown",
     "metadata": {},
     "source": [
      "#### Grab the top 10% from previously computed distributions"
     ]
    },
    {
     "cell_type": "code",
     "collapsed": false,
     "input": [
      "def get_edge_percentile(scores, distribution, bottom_percentile=False, all_data=False):\n",
      "    \"\"\"\n",
      "    distribution is a percentile distribution series.\n",
      "    scores is the score series we've previously computed\n",
      "    returns a dataframe with scores and dist values for each mention\n",
      "    \"\"\"\n",
      "    d = distribution.copy()\n",
      "    d.sort(ascending=bottom_percentile)\n",
      "    print d.head()\n",
      "    percentile_mentions = pd.DataFrame({'distribution': d})\n",
      "    top_scores = []\n",
      "    \n",
      "    for n, row in percentile_mentions.iterrows():\n",
      "        if n in scores.index and scores[n].keys():\n",
      "            top_scores.append(scores[n])\n",
      "        else:\n",
      "            top_scores.append(np.nan)\n",
      "    percentile_mentions['scores'] = top_scores\n",
      "    if not all_data:\n",
      "        percentile_mentions = percentile_mentions[pd.notnull(percentile_mentions['scores'])]\n",
      "        percentile_mentions = percentile_mentions[:(len(percentile_mentions)/10)]\n",
      "    \n",
      "    return percentile_mentions\n",
      "    "
     ],
     "language": "python",
     "metadata": {},
     "outputs": [],
     "prompt_number": 622
    },
    {
     "cell_type": "code",
     "collapsed": false,
     "input": [
      "top_percentile_scores = get_edge_percentile(all_score_df, total_mentions_distribution)\n",
      "bottom_percentile_scores = get_edge_percentile(all_score_df, total_mentions_distribution, bottom_percentile=True)\n",
      "all_scores = get_edge_percentile(all_score_df, total_mentions_distribution, all_data=True)"
     ],
     "language": "python",
     "metadata": {},
     "outputs": [
      {
       "output_type": "stream",
       "stream": "stdout",
       "text": [
        "56      0.006021\n",
        "52      0.005129\n",
        "911     0.004237\n",
        "524     0.003345\n",
        "1108    0.003345\n",
        "dtype: float64\n",
        "519     0.000223\n",
        "11      0.000223\n",
        "559     0.000223\n",
        "844     0.000223\n",
        "1041    0.000223\n",
        "dtype: float64\n",
        "56      0.006021\n",
        "52      0.005129\n",
        "911     0.004237\n",
        "524     0.003345\n",
        "1108    0.003345\n",
        "dtype: float64\n"
       ]
      }
     ],
     "prompt_number": 623
    },
    {
     "cell_type": "code",
     "collapsed": false,
     "input": [
      "def plot_mentions_df(df):\n",
      "    categories = []\n",
      "    scores = []\n",
      "    count = []\n",
      "    for n, row in df.iterrows():\n",
      "        if pd.isnull(row['scores']):\n",
      "            continue\n",
      "        for category, score in row['scores'].items():\n",
      "            if category not in categories:\n",
      "                categories.append(category)\n",
      "                count.append(1)\n",
      "                scores.append(score)\n",
      "            else:\n",
      "                index = categories.index(category)\n",
      "                count[index] += 1\n",
      "                scores[index] += score\n",
      "    for n, count in enumerate(count):\n",
      "        scores[n] = scores[n]/count\n",
      "    normalized_dist_series = pd.Series(scores, index=categories)\n",
      "    normalized_dist_series.plot(kind=\"bar\")"
     ],
     "language": "python",
     "metadata": {},
     "outputs": [],
     "prompt_number": 624
    },
    {
     "cell_type": "code",
     "collapsed": false,
     "input": [
      "plot_mentions_df(top_percentile_scores)"
     ],
     "language": "python",
     "metadata": {},
     "outputs": [
      {
       "output_type": "display_data",
       "png": "[encoded data removed]",
       "text": [
        "<matplotlib.figure.Figure at 0x1111b9050>"
       ]
      }
     ],
     "prompt_number": 625
    },
    {
     "cell_type": "code",
     "collapsed": false,
     "input": [
      "plot_mentions_df(bottom_percentile_scores)"
     ],
     "language": "python",
     "metadata": {},
     "outputs": [
      {
       "output_type": "display_data",
       "png": "[encoded data removed]",
       "text": [
        "<matplotlib.figure.Figure at 0x111e3d6d0>"
       ]
      }
     ],
     "prompt_number": 626
    },
    {
     "cell_type": "code",
     "collapsed": false,
     "input": [
      "plot_mentions_df(all_scores)"
     ],
     "language": "python",
     "metadata": {},
     "outputs": [
      {
       "output_type": "display_data",
       "png": "[encoded data removed]",
       "text": [
        "<matplotlib.figure.Figure at 0x1111d4c10>"
       ]
      }
     ],
     "prompt_number": 627
    }
   ],
   "metadata": {}
  }
 ]
}